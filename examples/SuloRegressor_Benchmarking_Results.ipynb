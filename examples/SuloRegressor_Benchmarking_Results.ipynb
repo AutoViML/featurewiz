{
 "cells": [
  {
   "cell_type": "markdown",
   "metadata": {},
   "source": [
    "# This notebook shows how a SuloRegressor() beat XGBRegressor() and LGBMRegressor() models as well as a Voting ensemble due to its superior design"
   ]
  },
  {
   "cell_type": "markdown",
   "metadata": {},
   "source": [
    "### We are going to test it on a large dataset using the sample example code provided by:\n",
    "https://machinelearningmastery.com/weighted-average-ensemble-with-python/\n",
    "\n",
    "Thanks to Jason Brownlee for his Machine Learning Mastery blogs. They are absolutely great!"
   ]
  },
  {
   "cell_type": "code",
   "execution_count": 1,
   "metadata": {
    "execution": {
     "iopub.execute_input": "2022-04-13T11:27:34.843421Z",
     "iopub.status.busy": "2022-04-13T11:27:34.843049Z",
     "iopub.status.idle": "2022-04-13T11:27:35.510175Z",
     "shell.execute_reply": "2022-04-13T11:27:35.509371Z",
     "shell.execute_reply.started": "2022-04-13T11:27:34.843365Z"
    }
   },
   "outputs": [],
   "source": [
    "import pandas as pd\n",
    "import numpy as np\n",
    "import matplotlib.pyplot as plt\n",
    "import seaborn as sns\n",
    "%matplotlib inline"
   ]
  },
  {
   "cell_type": "code",
   "execution_count": 2,
   "metadata": {},
   "outputs": [
    {
     "name": "stderr",
     "output_type": "stream",
     "text": [
      "C:\\Users\\Ram\\AppData\\Roaming\\Python\\Python38\\site-packages\\xgboost\\compat.py:93: FutureWarning: pandas.Int64Index is deprecated and will be removed from pandas in a future version. Use pandas.Index with the appropriate dtype instead.\n",
      "  from pandas import MultiIndex, Int64Index\n"
     ]
    },
    {
     "name": "stdout",
     "output_type": "stream",
     "text": [
      "Imported version = 0.1.85.\n",
      "from featurewiz import FeatureWiz\n",
      "wiz = FeatureWiz(verbose=1)\n",
      "X_train_selected = wiz.fit_transform(X_train, y_train)\n",
      "X_test_selected = wiz.transform(X_test)\n",
      "wiz.features  ### provides a list of selected features ###\n",
      "                                \n"
     ]
    }
   ],
   "source": [
    "from featurewiz import SuloRegressor"
   ]
  },
  {
   "cell_type": "code",
   "execution_count": 3,
   "metadata": {},
   "outputs": [
    {
     "name": "stdout",
     "output_type": "stream",
     "text": [
      "[1131.474087915824, 1069.183635117781, 1435.372818461376]\n",
      "Input data shapes: X = (8000, 100), y = (8000,)\n",
      "No GPU available on this device. Using CPU for lightgbm and others.\n",
      "    Number of estimators used in SuloRegressor = 5\n",
      "No HPT tuning performed since base estimator is given by input...\n",
      "    Fold 1: Average OOF Error (smaller is better): 995.101\n",
      "    Fold 2: Average OOF Error (smaller is better): 1008.726\n",
      "    Fold 3: Average OOF Error (smaller is better): 998.311\n",
      "    Fold 4: Average OOF Error (smaller is better): 999.055\n",
      "    Fold 5: Average OOF Error (smaller is better): 1012.118\n",
      "Time Taken: 0 (seconds)\n",
      "SuloRegressor RMSE: 1016.472\n",
      ">XGB: 1091.456\n",
      ">LGBM: 1037.188\n",
      ">DT: 1483.353\n",
      "Voting RMSE: 1103.755\n"
     ]
    }
   ],
   "source": [
    "# evaluate a weighted average ensemble for classification compared to base model\n",
    "from sklearn.datasets import make_classification, make_regression\n",
    "from sklearn.model_selection import train_test_split\n",
    "from sklearn.metrics import accuracy_score, mean_squared_error\n",
    "from sklearn.linear_model import Ridge, Lasso\n",
    "from sklearn.tree import DecisionTreeRegressor\n",
    "from sklearn.ensemble import VotingRegressor\n",
    "from lightgbm import LGBMRegressor\n",
    "from xgboost import XGBRegressor\n",
    "# get a list of base models\n",
    "lgbm = LGBMRegressor(random_state=0, n_estimators=100)\n",
    "def get_models():\n",
    "\tmodels = list()\n",
    "\tmodels.append(('XGB', XGBRegressor()))\n",
    "\tmodels.append(('LGBM', lgbm))\n",
    "\tmodels.append(('DT', DecisionTreeRegressor()))\n",
    "\treturn models\n",
    " \n",
    "# evaluate each base model\n",
    "def evaluate_models(models, X_train, X_val, y_train, y_val):\n",
    "\t# fit and evaluate the models\n",
    "\tscores = list()\n",
    "\tfor name, model in models:\n",
    "\t\t# fit the model\n",
    "\t\tmodel.fit(X_train, y_train)\n",
    "\t\t# evaluate the model\n",
    "\t\tyhat = model.predict(X_val)\n",
    "\t\tacc = np.sqrt(mean_squared_error(y_val, yhat))\n",
    "\t\t# store the performance\n",
    "\t\tscores.append(acc)\n",
    "\t\t# report model performance\n",
    "\treturn scores\n",
    "rr = Ridge()\n",
    "# define dataset\n",
    "X, y = make_regression(n_samples=10000, noise=1000, random_state=0)\n",
    "# split dataset into train and test sets\n",
    "X_train_full, X_test, y_train_full, y_test = train_test_split(X, y, test_size=0.20, random_state=1)\n",
    "# split the full train set into train and validation sets\n",
    "X_train, X_val, y_train, y_val = train_test_split(X_train_full, y_train_full, test_size=0.20, random_state=1)\n",
    "# create the base models\n",
    "models = get_models()\n",
    "# fit and evaluate each model\n",
    "scores = evaluate_models(models, X_train, X_val, y_train, y_val)\n",
    "print(scores)\n",
    "# create the ensemble\n",
    "#ensemble = VotingClassifier(estimators=models, voting='soft', weights=scores)\n",
    "ensemble = SuloRegressor(base_estimator=rr, n_estimators=None)\n",
    "# fit the ensemble on the training dataset\n",
    "ensemble.fit(pd.DataFrame(X_train_full), pd.Series(y_train_full))\n",
    "# make predictions on test set\n",
    "yhat = ensemble.predict(X_test)\n",
    "# evaluate predictions\n",
    "score = np.sqrt(mean_squared_error(y_test, yhat))\n",
    "print('SuloRegressor RMSE: %.3f' % (score))\n",
    "# evaluate each standalone model\n",
    "scores = evaluate_models(models, X_train_full, X_test, y_train_full, y_test)\n",
    "for i in range(len(models)):\n",
    "\tprint('>%s: %.3f' % (models[i][0], scores[i]))\n",
    "# evaluate equal weighting\n",
    "ensemble = VotingRegressor(estimators=models)\n",
    "ensemble.fit(X_train_full, y_train_full)\n",
    "yhat = ensemble.predict(X_test)\n",
    "score = np.sqrt(mean_squared_error(y_test, yhat))\n",
    "print('Voting RMSE: %.3f' % (score))"
   ]
  },
  {
   "cell_type": "code",
   "execution_count": 6,
   "metadata": {},
   "outputs": [
    {
     "data": {
      "text/plain": [
       "(8000, 100)"
      ]
     },
     "execution_count": 6,
     "metadata": {},
     "output_type": "execute_result"
    }
   ],
   "source": [
    "X_train_full.shape"
   ]
  },
  {
   "cell_type": "code",
   "execution_count": null,
   "metadata": {},
   "outputs": [],
   "source": []
  }
 ],
 "metadata": {
  "kernelspec": {
   "display_name": "Python 3",
   "language": "python",
   "name": "python3"
  },
  "language_info": {
   "codemirror_mode": {
    "name": "ipython",
    "version": 3
   },
   "file_extension": ".py",
   "mimetype": "text/x-python",
   "name": "python",
   "nbconvert_exporter": "python",
   "pygments_lexer": "ipython3",
   "version": "3.8.5"
  }
 },
 "nbformat": 4,
 "nbformat_minor": 4
}
