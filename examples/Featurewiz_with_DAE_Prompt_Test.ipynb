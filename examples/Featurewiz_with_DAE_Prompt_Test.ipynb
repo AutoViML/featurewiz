{
 "cells": [
  {
   "cell_type": "code",
   "execution_count": 1,
   "id": "6b11f2d0",
   "metadata": {
    "scrolled": true
   },
   "outputs": [],
   "source": [
    "import numpy as np\n",
    "import pandas as pd\n",
    "import matplotlib.pyplot as plt"
   ]
  },
  {
   "cell_type": "code",
   "execution_count": 2,
   "id": "14ad570f",
   "metadata": {},
   "outputs": [
    {
     "name": "stdout",
     "output_type": "stream",
     "text": [
      "Imported lazytransform v1.11. \n",
      "\n",
      "Imported featurewiz 0.5.2. Use the following syntax:\n",
      "    >>> wiz = FeatureWiz(feature_engg = '', nrows=None, transform_target=True, scalers=\"std\",\n",
      "        \t\tcategory_encoders=\"auto\", add_missing=False, verbose=0. imbalanced=False,\n",
      "        \t\tae_options={})\n",
      "    >>> X_train_selected, y_train = wiz.fit_transform(X_train, y_train)\n",
      "    >>> X_test_selected = wiz.transform(X_test)\n",
      "    >>> selected_features = wiz.features\n",
      "    \n"
     ]
    }
   ],
   "source": [
    "from featurewiz import FeatureWiz, cross_val_model_predictions\n",
    "from featurewiz import print_regression_metrics, print_classification_metrics,print_sulo_accuracy"
   ]
  },
  {
   "cell_type": "code",
   "execution_count": 3,
   "id": "eefc973b",
   "metadata": {},
   "outputs": [
    {
     "name": "stdout",
     "output_type": "stream",
     "text": [
      "(6366, 9)\n"
     ]
    },
    {
     "data": {
      "text/html": [
       "<div>\n",
       "<style scoped>\n",
       "    .dataframe tbody tr th:only-of-type {\n",
       "        vertical-align: middle;\n",
       "    }\n",
       "\n",
       "    .dataframe tbody tr th {\n",
       "        vertical-align: top;\n",
       "    }\n",
       "\n",
       "    .dataframe thead th {\n",
       "        text-align: right;\n",
       "    }\n",
       "</style>\n",
       "<table border=\"1\" class=\"dataframe\">\n",
       "  <thead>\n",
       "    <tr style=\"text-align: right;\">\n",
       "      <th></th>\n",
       "      <th>rate_marriage</th>\n",
       "      <th>age</th>\n",
       "      <th>yrs_married</th>\n",
       "      <th>children</th>\n",
       "      <th>religious</th>\n",
       "      <th>educ</th>\n",
       "      <th>occupation</th>\n",
       "      <th>occupation_husb</th>\n",
       "      <th>affair_multiclass</th>\n",
       "    </tr>\n",
       "  </thead>\n",
       "  <tbody>\n",
       "    <tr>\n",
       "      <th>0</th>\n",
       "      <td>3.0</td>\n",
       "      <td>32.0</td>\n",
       "      <td>9.0</td>\n",
       "      <td>3.0</td>\n",
       "      <td>3.0</td>\n",
       "      <td>17.0</td>\n",
       "      <td>2.0</td>\n",
       "      <td>5.0</td>\n",
       "      <td>0</td>\n",
       "    </tr>\n",
       "    <tr>\n",
       "      <th>1</th>\n",
       "      <td>3.0</td>\n",
       "      <td>27.0</td>\n",
       "      <td>13.0</td>\n",
       "      <td>3.0</td>\n",
       "      <td>1.0</td>\n",
       "      <td>14.0</td>\n",
       "      <td>3.0</td>\n",
       "      <td>4.0</td>\n",
       "      <td>3</td>\n",
       "    </tr>\n",
       "    <tr>\n",
       "      <th>2</th>\n",
       "      <td>4.0</td>\n",
       "      <td>22.0</td>\n",
       "      <td>2.5</td>\n",
       "      <td>0.0</td>\n",
       "      <td>1.0</td>\n",
       "      <td>16.0</td>\n",
       "      <td>3.0</td>\n",
       "      <td>5.0</td>\n",
       "      <td>1</td>\n",
       "    </tr>\n",
       "    <tr>\n",
       "      <th>3</th>\n",
       "      <td>4.0</td>\n",
       "      <td>37.0</td>\n",
       "      <td>16.5</td>\n",
       "      <td>4.0</td>\n",
       "      <td>3.0</td>\n",
       "      <td>16.0</td>\n",
       "      <td>5.0</td>\n",
       "      <td>5.0</td>\n",
       "      <td>0</td>\n",
       "    </tr>\n",
       "    <tr>\n",
       "      <th>4</th>\n",
       "      <td>5.0</td>\n",
       "      <td>27.0</td>\n",
       "      <td>9.0</td>\n",
       "      <td>1.0</td>\n",
       "      <td>1.0</td>\n",
       "      <td>14.0</td>\n",
       "      <td>3.0</td>\n",
       "      <td>4.0</td>\n",
       "      <td>4</td>\n",
       "    </tr>\n",
       "  </tbody>\n",
       "</table>\n",
       "</div>"
      ],
      "text/plain": [
       "   rate_marriage   age  yrs_married  children  religious  educ  occupation  \\\n",
       "0            3.0  32.0          9.0       3.0        3.0  17.0         2.0   \n",
       "1            3.0  27.0         13.0       3.0        1.0  14.0         3.0   \n",
       "2            4.0  22.0          2.5       0.0        1.0  16.0         3.0   \n",
       "3            4.0  37.0         16.5       4.0        3.0  16.0         5.0   \n",
       "4            5.0  27.0          9.0       1.0        1.0  14.0         3.0   \n",
       "\n",
       "   occupation_husb  affair_multiclass  \n",
       "0              5.0                  0  \n",
       "1              4.0                  3  \n",
       "2              5.0                  1  \n",
       "3              5.0                  0  \n",
       "4              4.0                  4  "
      ]
     },
     "execution_count": 3,
     "metadata": {},
     "output_type": "execute_result"
    }
   ],
   "source": [
    "trainfile = 'c:/users/ram/documents/ram/data_sets/kaggle/diabetes.csv'\n",
    "datapath = '../Ram/Data_Sets/'\n",
    "filename = 'winequality.csv'\n",
    "filename = 'affairs.csv'\n",
    "#filename = 'shark_attacks.csv'\n",
    "trainfile = datapath+filename\n",
    "sep = ','\n",
    "dft = pd.read_csv(trainfile,sep=sep)\n",
    "dft.drop(['affair','affairs'],axis=1, inplace=True)\n",
    "print(dft.shape)\n",
    "dft.head()"
   ]
  },
  {
   "cell_type": "code",
   "execution_count": 4,
   "id": "67a4a603",
   "metadata": {},
   "outputs": [],
   "source": [
    "from featurewiz import LazyTransformer, get_class_distribution, get_class_weights"
   ]
  },
  {
   "cell_type": "code",
   "execution_count": 5,
   "id": "2cbdcdcd",
   "metadata": {},
   "outputs": [
    {
     "data": {
      "text/plain": [
       "7"
      ]
     },
     "execution_count": 5,
     "metadata": {},
     "output_type": "execute_result"
    }
   ],
   "source": [
    "target = 'affair_multiclass'\n",
    "#target = 'quality'\n",
    "modeltype = 'Multi_Classification'\n",
    "#modeltype = 'Regression'\n",
    "preds = [x for x in list(dft) if x not in target]\n",
    "dft[target].nunique()"
   ]
  },
  {
   "cell_type": "code",
   "execution_count": 6,
   "id": "efdaa506",
   "metadata": {},
   "outputs": [
    {
     "name": "stdout",
     "output_type": "stream",
     "text": [
      "(5092, 8) (1274, 8)\n"
     ]
    }
   ],
   "source": [
    "from sklearn.model_selection import train_test_split\n",
    "from featurewiz import FE_kmeans_resampler\n",
    "if modeltype == 'Regression':\n",
    "    X_train, X_test, y_train, y_test = train_test_split(dft[preds], dft[target], test_size=0.20, random_state=1,)\n",
    "    X_train_over, y_train_over = FE_kmeans_resampler(X_train, y_train, target, smote='',verbose=0)\n",
    "    print(X_train_over.shape, X_test.shape)\n",
    "    #train, test = pd.concat([X_train_over, pd.Series(y_train_over,name=target)], axis=1), pd.concat([X_test, y_test], axis=1)\n",
    "    train, test = train_test_split(dft, test_size=0.20, random_state=42)\n",
    "else:\n",
    "    X_train, X_test, y_train, y_test = train_test_split(dft[preds], dft[target], test_size=0.20, \n",
    "                                                    stratify=dft[target],\n",
    "                                                    random_state=42)\n",
    "    train, test = train_test_split(dft, test_size=0.20, random_state=42,\n",
    "                                                    stratify=dft[target]\n",
    "                                                   )\n",
    "print(X_train.shape, X_test.shape)"
   ]
  },
  {
   "cell_type": "code",
   "execution_count": 7,
   "id": "0b7b7d46",
   "metadata": {},
   "outputs": [
    {
     "data": {
      "text/plain": [
       "<AxesSubplot:xlabel='affair_multiclass', ylabel='Probability'>"
      ]
     },
     "execution_count": 7,
     "metadata": {},
     "output_type": "execute_result"
    },
    {
     "data": {
      "image/png": "[encoded data removed]",
      "text/plain": [
       "<Figure size 432x288 with 1 Axes>"
      ]
     },
     "metadata": {
      "needs_background": "light"
     },
     "output_type": "display_data"
    }
   ],
   "source": [
    "### Notice that the target values distribution is bimodal. \n",
    "import seaborn as sns\n",
    "sns.set(rc={'figure.figsize':(20,5)})\n",
    "sns.histplot(y_train, kde=True, stat=\"probability\")"
   ]
  },
  {
   "cell_type": "code",
   "execution_count": 8,
   "id": "0daaa043",
   "metadata": {},
   "outputs": [
    {
     "data": {
      "text/plain": [
       "<AxesSubplot:xlabel='affair_multiclass', ylabel='Probability'>"
      ]
     },
     "execution_count": 8,
     "metadata": {},
     "output_type": "execute_result"
    },
    {
     "data": {
      "image/png": "[encoded data removed]",
      "text/plain": [
       "<Figure size 432x288 with 1 Axes>"
      ]
     },
     "metadata": {
      "needs_background": "light"
     },
     "output_type": "display_data"
    }
   ],
   "source": [
    "sns.histplot(y_test, kde=True, stat=\"probability\")"
   ]
  },
  {
   "cell_type": "code",
   "execution_count": 9,
   "id": "13673e0d",
   "metadata": {},
   "outputs": [
    {
     "name": "stdout",
     "output_type": "stream",
     "text": [
      "False\n"
     ]
    }
   ],
   "source": [
    "import scipy.stats as spy\n",
    "## If y is log, then set this flag\n",
    "log_y = False\n",
    "if (abs(spy.skew(y_train)) >= 3.0) & (modeltype=='Regression'):\n",
    "    log_y = True\n",
    "print(log_y)\n",
    "\n",
    "# Assuming 'affairs' is the target variable in your train and test sets\n",
    "if log_y & (modeltype == 'Regression'):\n",
    "    y_train = np.log(y_train + 1)\n",
    "    y_test = np.log(y_test + 1)"
   ]
  },
  {
   "cell_type": "code",
   "execution_count": 10,
   "id": "94a40f94",
   "metadata": {},
   "outputs": [],
   "source": [
    "## set feature_engg flag here\n",
    "fe = False"
   ]
  },
  {
   "cell_type": "code",
   "execution_count": 11,
   "id": "ca25b5cd",
   "metadata": {},
   "outputs": [],
   "source": [
    "def feature_engg_for_affairs(df):\n",
    "    df = df.copy(deep=True)\n",
    "    # Feature engineering\n",
    "    df['age_yrs_married_interaction'] = df['age'] * df['yrs_married']\n",
    "    df['children_to_yrs_married_ratio'] = df['children'] / df['yrs_married']\n",
    "    df['is_childless'] = (df['children'] == 0).astype(int)\n",
    "    df['age_group'] = pd.cut(df['age'], bins=[20, 30, 40, 50, 60], labels=['20s', '30s', '40s', '50s'])\n",
    "    df['marriage_satisfaction_age'] = df['rate_marriage'] * df['age']\n",
    "\n",
    "    # Now df contains the original features plus the new engineered features\n",
    "    print(df.shape)\n",
    "    return df"
   ]
  },
  {
   "cell_type": "code",
   "execution_count": 12,
   "id": "f822bec2",
   "metadata": {},
   "outputs": [],
   "source": [
    "if fe:\n",
    "    X_train = feature_engg_for_affairs(X_train)\n",
    "    X_test = feature_engg_for_affairs(X_test)"
   ]
  },
  {
   "cell_type": "code",
   "execution_count": 13,
   "id": "52f7ad8d",
   "metadata": {},
   "outputs": [],
   "source": [
    "# Generate polynomial features\n",
    "from sklearn.preprocessing import PolynomialFeatures\n",
    "cols = ['rate_marriage', 'age', 'yrs_married', 'children']\n",
    "poly = PolynomialFeatures(degree=2, include_bias=False)"
   ]
  },
  {
   "cell_type": "code",
   "execution_count": 14,
   "id": "f6fc36fc",
   "metadata": {},
   "outputs": [],
   "source": [
    "if fe:\n",
    "    poly_features = poly.fit_transform(X_train[cols])\n",
    "    poly_feature_names = poly.get_feature_names_out(cols)\n",
    "    df_poly = pd.DataFrame(poly_features, columns=poly_feature_names)\n",
    "    # Merge the polynomial features back into the original dataframe\n",
    "    X_train = X_train.join(df_poly, rsuffix='_extra').drop(cols, axis=1)\n",
    "    print(X_train.shape)\n",
    "\n",
    "    poly_features = poly.transform(X_test[cols])\n",
    "    poly_feature_names = poly.get_feature_names_out(cols)\n",
    "    df_poly = pd.DataFrame(poly_features, columns=poly_feature_names)\n",
    "    # Merge the polynomial features back into the original dataframe\n",
    "    X_test = X_test.join(df_poly, rsuffix='_extra').drop(cols, axis=1)\n",
    "    print(X_test.shape)"
   ]
  },
  {
   "cell_type": "code",
   "execution_count": 15,
   "id": "3485e528",
   "metadata": {},
   "outputs": [],
   "source": [
    "### For regression, dae_add gives only okay results, try VAE instead\n",
    "dae_dicto = {\n",
    "    'noise_factor': 0.2,\n",
    "    'encoding_dim': 10,\n",
    "    'epochs': 100, \n",
    "    'batch_size': 32,\n",
    "         }\n",
    "dae_dicto = {}\n",
    "### VAE_ADD gives better results than VAE and DAE. Try it first for Regression problems.\n",
    "vae_dicto = {\n",
    "    'intermediate_dim': 32,\n",
    "    'latent_dim': 8,\n",
    "    'epochs': 100, \n",
    "    'batch_size': 32,\n",
    "    'learning_rate': 0.001\n",
    "         }\n",
    "gan_dicto = {\n",
    "    'gan_model':None,\n",
    "    'input_dim': 100,\n",
    "    'embedding_dim': 100, \n",
    "    'epochs': 100, \n",
    "    'num_synthetic_samples': 400,\n",
    "         }"
   ]
  },
  {
   "cell_type": "code",
   "execution_count": 16,
   "id": "b5264477",
   "metadata": {},
   "outputs": [
    {
     "name": "stdout",
     "output_type": "stream",
     "text": [
      "featurewiz is given 0.9 as correlation limit...\n",
      "    Warning: Too many features will be generated since feature engg specified\n",
      "    final list of feature engineering given: ['dae_add']\n",
      "    final list of category encoders given: ['label', 'label']\n",
      "Since Auto Encoders are selected for feature extraction,\n",
      "    Recursive XGBoost is skipped...\n",
      "DenoisingAutoEncoder()\n",
      "    AE dictionary given: dict_items([])\n",
      "    final list of scalers given: [minmax]\n"
     ]
    }
   ],
   "source": [
    "fwiz = FeatureWiz(feature_engg = 'dae_add', nrows=None, transform_target=True, scalers=\"MinMax\",\n",
    "        \t\tcategory_encoders=\"one-hot\", add_missing=False, verbose=0, imbalanced=False,\n",
    "                   ae_options=dae_dicto, skip_sulov=False, skip_xgboost=False)"
   ]
  },
  {
   "cell_type": "code",
   "execution_count": 17,
   "id": "97751282",
   "metadata": {
    "scrolled": false
   },
   "outputs": [
    {
     "name": "stdout",
     "output_type": "stream",
     "text": [
      "Loaded input data. Shape = (5092, 8)\n",
      "Performing hyper param selection for DAE. Will take approx. 81 seconds\n",
      "    defining a pipeline with MinMaxScaler and DAE\n",
      "Fitting 3 folds for each of 9 candidates, totalling 27 fits\n",
      "Epoch 1/3\n",
      "255/255 [==============================] - 3s 5ms/step - loss: 0.3987 - mse: 0.3987 - val_loss: 0.0737 - val_mse: 0.0737\n",
      "Epoch 2/3\n",
      "255/255 [==============================] - 1s 3ms/step - loss: 0.1282 - mse: 0.1282 - val_loss: 0.0542 - val_mse: 0.0542\n",
      "Epoch 3/3\n",
      "255/255 [==============================] - 1s 4ms/step - loss: 0.0887 - mse: 0.0887 - val_loss: 0.0474 - val_mse: 0.0474\n",
      "    time taken for DAE hyper param selection = 67 seconds\n",
      "{'feature_extractor__batch_size': 16, 'feature_extractor__encoding_dim': 5, 'feature_extractor__epochs': 3}\n",
      "#### Starting featurewiz transform for train data ####\n",
      "No groupby features created since no groupby feature engg specified\n",
      "No interactions created for categorical vars since no interactions feature engg specified\n",
      "    Single_Label Multi_Classification problem \n",
      "Shape of dataset: (5092, 8). Now we classify variables into different types...\n",
      "Time taken to define data pipeline = 1 second(s)\n",
      "No model input given...\n",
      "Lazy Transformer Pipeline created...\n",
      "    transformed target from object type to numeric\n",
      "    Time taken to fit dataset = 1 second(s)\n",
      "    Time taken to transform dataset = 1 second(s)\n",
      "    Shape of transformed dataset: (5092, 8)\n",
      "Epoch 1/100\n",
      "255/255 [==============================] - 3s 5ms/step - loss: 0.3987 - mse: 0.3987 - val_loss: 0.0737 - val_mse: 0.0737\n",
      "Epoch 2/100\n",
      "255/255 [==============================] - 1s 3ms/step - loss: 0.1282 - mse: 0.1282 - val_loss: 0.0542 - val_mse: 0.0542\n",
      "Epoch 3/100\n",
      "255/255 [==============================] - 1s 3ms/step - loss: 0.0887 - mse: 0.0887 - val_loss: 0.0474 - val_mse: 0.0474\n",
      "Epoch 4/100\n",
      "255/255 [==============================] - 1s 3ms/step - loss: 0.0709 - mse: 0.0709 - val_loss: 0.0452 - val_mse: 0.0452\n",
      "Epoch 5/100\n",
      "255/255 [==============================] - 1s 3ms/step - loss: 0.0627 - mse: 0.0627 - val_loss: 0.0441 - val_mse: 0.0441\n",
      "Epoch 6/100\n",
      "255/255 [==============================] - 1s 3ms/step - loss: 0.0568 - mse: 0.0568 - val_loss: 0.0418 - val_mse: 0.0418\n",
      "Epoch 7/100\n",
      "255/255 [==============================] - 1s 3ms/step - loss: 0.0521 - mse: 0.0521 - val_loss: 0.0399 - val_mse: 0.0399\n",
      "Epoch 8/100\n",
      "255/255 [==============================] - 1s 3ms/step - loss: 0.0499 - mse: 0.0499 - val_loss: 0.0377 - val_mse: 0.0377\n",
      "Epoch 9/100\n",
      "255/255 [==============================] - 1s 4ms/step - loss: 0.0466 - mse: 0.0466 - val_loss: 0.0372 - val_mse: 0.0372\n",
      "Epoch 10/100\n",
      "255/255 [==============================] - 1s 4ms/step - loss: 0.0456 - mse: 0.0456 - val_loss: 0.0365 - val_mse: 0.0365\n",
      "Epoch 11/100\n",
      "255/255 [==============================] - 1s 3ms/step - loss: 0.0441 - mse: 0.0441 - val_loss: 0.0356 - val_mse: 0.0356\n",
      "Epoch 12/100\n",
      "255/255 [==============================] - 1s 3ms/step - loss: 0.0432 - mse: 0.0432 - val_loss: 0.0347 - val_mse: 0.0347\n",
      "Epoch 13/100\n",
      "255/255 [==============================] - 1s 3ms/step - loss: 0.0424 - mse: 0.0424 - val_loss: 0.0343 - val_mse: 0.0343\n",
      "Epoch 14/100\n",
      "255/255 [==============================] - 1s 3ms/step - loss: 0.0416 - mse: 0.0416 - val_loss: 0.0337 - val_mse: 0.0337\n",
      "Epoch 15/100\n",
      "255/255 [==============================] - 1s 4ms/step - loss: 0.0409 - mse: 0.0409 - val_loss: 0.0335 - val_mse: 0.0335\n",
      "Epoch 16/100\n",
      "255/255 [==============================] - 1s 4ms/step - loss: 0.0404 - mse: 0.0404 - val_loss: 0.0334 - val_mse: 0.0334\n",
      "Epoch 17/100\n",
      "255/255 [==============================] - 1s 4ms/step - loss: 0.0400 - mse: 0.0400 - val_loss: 0.0327 - val_mse: 0.0327\n",
      "Epoch 18/100\n",
      "255/255 [==============================] - 1s 3ms/step - loss: 0.0401 - mse: 0.0401 - val_loss: 0.0329 - val_mse: 0.0329\n",
      "Epoch 19/100\n",
      "255/255 [==============================] - 1s 4ms/step - loss: 0.0398 - mse: 0.0398 - val_loss: 0.0321 - val_mse: 0.0321\n",
      "Epoch 20/100\n",
      "255/255 [==============================] - 1s 4ms/step - loss: 0.0394 - mse: 0.0394 - val_loss: 0.0316 - val_mse: 0.0316\n",
      "Epoch 21/100\n",
      "255/255 [==============================] - 1s 4ms/step - loss: 0.0390 - mse: 0.0390 - val_loss: 0.0313 - val_mse: 0.0313\n",
      "Epoch 22/100\n",
      "255/255 [==============================] - 1s 4ms/step - loss: 0.0381 - mse: 0.0381 - val_loss: 0.0303 - val_mse: 0.0303\n",
      "Epoch 23/100\n",
      "255/255 [==============================] - 1s 3ms/step - loss: 0.0374 - mse: 0.0374 - val_loss: 0.0296 - val_mse: 0.0296\n",
      "Epoch 24/100\n",
      "255/255 [==============================] - 1s 3ms/step - loss: 0.0369 - mse: 0.0369 - val_loss: 0.0293 - val_mse: 0.0293\n",
      "Epoch 25/100\n",
      "255/255 [==============================] - 1s 3ms/step - loss: 0.0369 - mse: 0.0369 - val_loss: 0.0288 - val_mse: 0.0288\n",
      "Epoch 26/100\n",
      "255/255 [==============================] - 1s 3ms/step - loss: 0.0363 - mse: 0.0363 - val_loss: 0.0282 - val_mse: 0.0282\n",
      "Epoch 27/100\n",
      "255/255 [==============================] - 1s 4ms/step - loss: 0.0355 - mse: 0.0355 - val_loss: 0.0280 - val_mse: 0.0280\n",
      "Epoch 28/100\n",
      "255/255 [==============================] - 1s 4ms/step - loss: 0.0363 - mse: 0.0363 - val_loss: 0.0278 - val_mse: 0.0278\n",
      "Epoch 29/100\n",
      "255/255 [==============================] - 1s 4ms/step - loss: 0.0360 - mse: 0.0360 - val_loss: 0.0281 - val_mse: 0.0281\n",
      "Epoch 30/100\n",
      "255/255 [==============================] - 1s 5ms/step - loss: 0.0354 - mse: 0.0354 - val_loss: 0.0276 - val_mse: 0.0276\n",
      "Epoch 31/100\n",
      "255/255 [==============================] - 1s 4ms/step - loss: 0.0357 - mse: 0.0357 - val_loss: 0.0278 - val_mse: 0.0278\n",
      "Epoch 32/100\n",
      "255/255 [==============================] - 1s 4ms/step - loss: 0.0358 - mse: 0.0358 - val_loss: 0.0281 - val_mse: 0.0281\n",
      "Epoch 33/100\n",
      "255/255 [==============================] - 1s 4ms/step - loss: 0.0361 - mse: 0.0361 - val_loss: 0.0284 - val_mse: 0.0284\n",
      "Epoch 34/100\n",
      "255/255 [==============================] - 1s 3ms/step - loss: 0.0352 - mse: 0.0352 - val_loss: 0.0271 - val_mse: 0.0271\n",
      "Epoch 35/100\n",
      "255/255 [==============================] - 1s 3ms/step - loss: 0.0347 - mse: 0.0347 - val_loss: 0.0275 - val_mse: 0.0275\n",
      "Epoch 36/100\n",
      "255/255 [==============================] - 1s 3ms/step - loss: 0.0348 - mse: 0.0348 - val_loss: 0.0276 - val_mse: 0.0276\n",
      "Epoch 37/100\n",
      "255/255 [==============================] - 1s 5ms/step - loss: 0.0352 - mse: 0.0352 - val_loss: 0.0271 - val_mse: 0.0271\n",
      "Epoch 38/100\n",
      "255/255 [==============================] - 1s 4ms/step - loss: 0.0352 - mse: 0.0352 - val_loss: 0.0274 - val_mse: 0.0274\n",
      "Epoch 39/100\n",
      "255/255 [==============================] - 1s 4ms/step - loss: 0.0346 - mse: 0.0346 - val_loss: 0.0270 - val_mse: 0.0270\n",
      "Epoch 40/100\n",
      "255/255 [==============================] - 1s 3ms/step - loss: 0.0351 - mse: 0.0351 - val_loss: 0.0268 - val_mse: 0.0268\n",
      "Epoch 41/100\n",
      "255/255 [==============================] - 1s 3ms/step - loss: 0.0346 - mse: 0.0346 - val_loss: 0.0266 - val_mse: 0.0266\n",
      "Epoch 42/100\n",
      "255/255 [==============================] - 1s 3ms/step - loss: 0.0351 - mse: 0.0351 - val_loss: 0.0271 - val_mse: 0.0271\n",
      "Epoch 43/100\n",
      "255/255 [==============================] - 1s 3ms/step - loss: 0.0345 - mse: 0.0345 - val_loss: 0.0270 - val_mse: 0.0270\n",
      "Epoch 44/100\n",
      "255/255 [==============================] - 1s 3ms/step - loss: 0.0344 - mse: 0.0344 - val_loss: 0.0271 - val_mse: 0.0271\n",
      "Epoch 45/100\n",
      "255/255 [==============================] - 1s 4ms/step - loss: 0.0348 - mse: 0.0348 - val_loss: 0.0267 - val_mse: 0.0267\n",
      "Epoch 46/100\n",
      "255/255 [==============================] - 1s 3ms/step - loss: 0.0344 - mse: 0.0344 - val_loss: 0.0268 - val_mse: 0.0268\n",
      "Fitting and transforming an Auto Encoder for dataset...\n",
      "Shape of transformed data due to auto encoder = (5092, 13)\n",
      "    Single_Label Multi_Classification problem \n",
      "Starting SULOV with 13 features...\n",
      "    there are no null values in dataset...\n",
      "    there are no null values in target column...\n",
      "Completed SULOV. 11 features selected\n",
      "    time taken to run entire featurewiz = 45 second(s)\n",
      "Recursive XGBoost selected 11 features...\n"
     ]
    }
   ],
   "source": [
    "# Load and preprocess your dataset\n",
    "# Assuming X_train and y_train are your training data and labels\n",
    "X_train_selected, encoded_y_train = fwiz.fit_transform(X_train, y_train)"
   ]
  },
  {
   "cell_type": "code",
   "execution_count": 18,
   "id": "db68a53e",
   "metadata": {},
   "outputs": [
    {
     "name": "stdout",
     "output_type": "stream",
     "text": [
      "#### Starting featurewiz transform for test data ####\n",
      "Loaded input data. Shape = (1274, 8)\n",
      "    Beware! feature_engg will add 100s, if not 1000s of additional features to your dataset!\n",
      "#### Starting lazytransform for test data ####\n",
      "    Time taken to transform dataset = 1 second(s)\n",
      "    Shape of transformed dataset: (1274, 8)\n",
      "Shape of transformed data due to auto encoder = (1274, 13)\n",
      "Returning dataframe with 11 features \n"
     ]
    }
   ],
   "source": [
    "### Since you modified y_train to numeric, you must do same for y_test\n",
    "X_test_selected = fwiz.transform(X_test)\n",
    "if modeltype !='Regression':\n",
    "    y_test = fwiz.lazy.yformer.transform(y_test)"
   ]
  },
  {
   "cell_type": "code",
   "execution_count": 19,
   "id": "0bef160f",
   "metadata": {},
   "outputs": [
    {
     "name": "stdout",
     "output_type": "stream",
     "text": [
      "Bal accu 15%\n",
      "ROC AUC = 0.68\n",
      "              precision    recall  f1-score   support\n",
      "\n",
      "           0       0.83      0.96      0.89      1050\n",
      "           1       0.14      0.05      0.07        86\n",
      "           2       0.18      0.04      0.07        48\n",
      "           3       0.00      0.00      0.00        26\n",
      "           4       0.00      0.00      0.00        35\n",
      "           5       0.00      0.00      0.00        17\n",
      "           6       0.00      0.00      0.00        12\n",
      "           7       0.00      0.00      0.00         0\n",
      "           8       0.00      0.00      0.00         0\n",
      "\n",
      "    accuracy                           0.80      1274\n",
      "   macro avg       0.13      0.12      0.11      1274\n",
      "weighted avg       0.70      0.80      0.74      1274\n",
      "\n",
      "final average balanced accuracy score = 0.15\n"
     ]
    }
   ],
   "source": [
    "import numpy as np\n",
    "from sklearn.ensemble import RandomForestClassifier, RandomForestRegressor\n",
    "from sklearn.utils import class_weight\n",
    "from sklearn.metrics import accuracy_score, classification_report\n",
    "from lightgbm import LGBMClassifier\n",
    "from catboost import CatBoostClassifier\n",
    "from sklearn.discriminant_analysis import LinearDiscriminantAnalysis, QuadraticDiscriminantAnalysis\n",
    "\n",
    "# Updating the Random Forest Classifier with the corrected class weights\n",
    "if modeltype == 'Regression':\n",
    "    rf_classifier = RandomForestRegressor(random_state=42)\n",
    "else:\n",
    "    # Correctly computing class weights for the classes present in the training set\n",
    "    class_weights_dict_corrected = get_class_distribution(y_train)\n",
    "    rf_classifier = RandomForestClassifier(class_weight=class_weights_dict_corrected, random_state=42)\n",
    "\n",
    "\n",
    "# Fitting the classifier on the training data\n",
    "rf_classifier.fit(X_train_selected, y_train)\n",
    "\n",
    "# Predicting on the test set\n",
    "y_pred = rf_classifier.predict(X_test_selected)\n",
    "\n",
    "if modeltype == 'Regression':\n",
    "    print_regression_metrics(y_test, y_pred, verbose=1)\n",
    "else:\n",
    "    # Evaluating the classifier\n",
    "    y_probas = rf_classifier.predict_proba(X_test_selected)\n",
    "    print_classification_metrics(y_test, y_pred, y_probas, verbose=1)"
   ]
  },
  {
   "cell_type": "code",
   "execution_count": 20,
   "id": "5addb4e0",
   "metadata": {},
   "outputs": [],
   "source": [
    "from featurewiz.ml_models import IterativeClassifier, IterativeForwardClassifier, IterativeBackwardClassifier\n",
    "from featurewiz import IterativeDoubleClassifier"
   ]
  },
  {
   "cell_type": "code",
   "execution_count": 21,
   "id": "13f5bd11",
   "metadata": {},
   "outputs": [
    {
     "name": "stdout",
     "output_type": "stream",
     "text": [
      "Bal accu 14%\n",
      "ROC AUC = 0.75\n",
      "              precision    recall  f1-score   support\n",
      "\n",
      "           0       0.82      1.00      0.90      1050\n",
      "           1       0.00      0.00      0.00        86\n",
      "           2       0.00      0.00      0.00        48\n",
      "           3       0.00      0.00      0.00        26\n",
      "           4       0.00      0.00      0.00        35\n",
      "           5       0.00      0.00      0.00        17\n",
      "           6       0.00      0.00      0.00        12\n",
      "\n",
      "    accuracy                           0.82      1274\n",
      "   macro avg       0.12      0.14      0.13      1274\n",
      "weighted avg       0.68      0.82      0.74      1274\n",
      "\n",
      "final average balanced accuracy score = 0.14\n",
      "Time taken = 7 seconds\n"
     ]
    }
   ],
   "source": [
    "# Example usage\n",
    "# Create and train the classifier\n",
    "import numpy as np\n",
    "from sklearn.ensemble import RandomForestClassifier, RandomForestRegressor\n",
    "from sklearn.utils import class_weight\n",
    "from sklearn.metrics import accuracy_score, classification_report\n",
    "import time\n",
    "start_time = time.time()\n",
    "\n",
    "# Updating the Random Forest Classifier with the corrected class weights\n",
    "if modeltype == 'Regression':\n",
    "    rf_classifier = RandomForestRegressor(random_state=42)\n",
    "else:\n",
    "    # Correctly computing class weights for the classes present in the training set\n",
    "    class_weights_dict_corrected = get_class_weights(y_train)\n",
    "    ### The Double Classifier is best of the bunch!  It provides very high ROC_AUC but low bal_accuracy\n",
    "    rf_classifier = IterativeDoubleClassifier( weights = {1: 0.5, 2: 0.5} )\n",
    "    ### The Iterative Classifier is somewhat worse than a regular classifier. Don't know why.\n",
    "    #rf_classifier = IterativeClassifier( threshold=100)\n",
    "\n",
    "\n",
    "# Fitting the classifier on the training data\n",
    "rf_classifier.fit(X_train_selected, y_train)\n",
    "\n",
    "# Predicting on the test set\n",
    "y_pred = rf_classifier.predict(X_test_selected)\n",
    "\n",
    "if modeltype == 'Regression':\n",
    "    print_regression_metrics(y_test, y_pred, verbose=1)\n",
    "else:\n",
    "    # Evaluating the classifier\n",
    "    y_probas = rf_classifier.predict_proba(X_test_selected)\n",
    "    print_classification_metrics(y_test, y_pred, y_probas, verbose=1)\n",
    "print('Time taken = %0.0f seconds' %(time.time()-start_time))"
   ]
  },
  {
   "cell_type": "code",
   "execution_count": null,
   "id": "e675d7a8",
   "metadata": {},
   "outputs": [],
   "source": []
  }
 ],
 "metadata": {
  "kernelspec": {
   "display_name": "Python 3",
   "language": "python",
   "name": "python3"
  },
  "language_info": {
   "codemirror_mode": {
    "name": "ipython",
    "version": 3
   },
   "file_extension": ".py",
   "mimetype": "text/x-python",
   "name": "python",
   "nbconvert_exporter": "python",
   "pygments_lexer": "ipython3",
   "version": "3.8.5"
  }
 },
 "nbformat": 4,
 "nbformat_minor": 5
}
