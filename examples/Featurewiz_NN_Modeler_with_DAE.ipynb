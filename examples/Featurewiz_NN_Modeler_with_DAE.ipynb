{
 "cells": [
  {
   "cell_type": "code",
   "execution_count": 1,
   "id": "f9e1c61e",
   "metadata": {},
   "outputs": [],
   "source": [
    "import pandas as pd\n",
    "import numpy as np\n",
    "pd.options.display.max_columns=1000"
   ]
  },
  {
   "cell_type": "code",
   "execution_count": 2,
   "id": "e5662b70",
   "metadata": {},
   "outputs": [
    {
     "name": "stdout",
     "output_type": "stream",
     "text": [
      "Imported lazytransform v1.11. \n",
      "\n",
      "Imported featurewiz 0.5.2. Use the following syntax:\n",
      "    >>> wiz = FeatureWiz(feature_engg = '', nrows=None, transform_target=True, scalers=\"std\",\n",
      "        \t\tcategory_encoders=\"auto\", add_missing=False, verbose=0. imbalanced=False,\n",
      "        \t\tae_options={})\n",
      "    >>> X_train_selected, y_train = wiz.fit_transform(X_train, y_train)\n",
      "    >>> X_test_selected = wiz.transform(X_test)\n",
      "    >>> selected_features = wiz.features\n",
      "    \n"
     ]
    }
   ],
   "source": [
    "from featurewiz import LazyTransformer, SuloRegressor, SuloClassifier\n",
    "from featurewiz import FeatureWiz, cross_val_model_predictions, get_class_weights\n",
    "from featurewiz import print_regression_metrics, print_classification_metrics,print_sulo_accuracy"
   ]
  },
  {
   "cell_type": "code",
   "execution_count": 3,
   "id": "d66953ca",
   "metadata": {},
   "outputs": [
    {
     "name": "stdout",
     "output_type": "stream",
     "text": [
      "(6366, 9)\n"
     ]
    },
    {
     "data": {
      "text/html": [
       "<div>\n",
       "<style scoped>\n",
       "    .dataframe tbody tr th:only-of-type {\n",
       "        vertical-align: middle;\n",
       "    }\n",
       "\n",
       "    .dataframe tbody tr th {\n",
       "        vertical-align: top;\n",
       "    }\n",
       "\n",
       "    .dataframe thead th {\n",
       "        text-align: right;\n",
       "    }\n",
       "</style>\n",
       "<table border=\"1\" class=\"dataframe\">\n",
       "  <thead>\n",
       "    <tr style=\"text-align: right;\">\n",
       "      <th></th>\n",
       "      <th>rate_marriage</th>\n",
       "      <th>age</th>\n",
       "      <th>yrs_married</th>\n",
       "      <th>children</th>\n",
       "      <th>religious</th>\n",
       "      <th>educ</th>\n",
       "      <th>occupation</th>\n",
       "      <th>occupation_husb</th>\n",
       "      <th>affair_multiclass</th>\n",
       "    </tr>\n",
       "  </thead>\n",
       "  <tbody>\n",
       "    <tr>\n",
       "      <th>0</th>\n",
       "      <td>3.0</td>\n",
       "      <td>32.0</td>\n",
       "      <td>9.0</td>\n",
       "      <td>3.0</td>\n",
       "      <td>3.0</td>\n",
       "      <td>17.0</td>\n",
       "      <td>2.0</td>\n",
       "      <td>5.0</td>\n",
       "      <td>0</td>\n",
       "    </tr>\n",
       "    <tr>\n",
       "      <th>1</th>\n",
       "      <td>3.0</td>\n",
       "      <td>27.0</td>\n",
       "      <td>13.0</td>\n",
       "      <td>3.0</td>\n",
       "      <td>1.0</td>\n",
       "      <td>14.0</td>\n",
       "      <td>3.0</td>\n",
       "      <td>4.0</td>\n",
       "      <td>3</td>\n",
       "    </tr>\n",
       "    <tr>\n",
       "      <th>2</th>\n",
       "      <td>4.0</td>\n",
       "      <td>22.0</td>\n",
       "      <td>2.5</td>\n",
       "      <td>0.0</td>\n",
       "      <td>1.0</td>\n",
       "      <td>16.0</td>\n",
       "      <td>3.0</td>\n",
       "      <td>5.0</td>\n",
       "      <td>1</td>\n",
       "    </tr>\n",
       "    <tr>\n",
       "      <th>3</th>\n",
       "      <td>4.0</td>\n",
       "      <td>37.0</td>\n",
       "      <td>16.5</td>\n",
       "      <td>4.0</td>\n",
       "      <td>3.0</td>\n",
       "      <td>16.0</td>\n",
       "      <td>5.0</td>\n",
       "      <td>5.0</td>\n",
       "      <td>0</td>\n",
       "    </tr>\n",
       "    <tr>\n",
       "      <th>4</th>\n",
       "      <td>5.0</td>\n",
       "      <td>27.0</td>\n",
       "      <td>9.0</td>\n",
       "      <td>1.0</td>\n",
       "      <td>1.0</td>\n",
       "      <td>14.0</td>\n",
       "      <td>3.0</td>\n",
       "      <td>4.0</td>\n",
       "      <td>4</td>\n",
       "    </tr>\n",
       "  </tbody>\n",
       "</table>\n",
       "</div>"
      ],
      "text/plain": [
       "   rate_marriage   age  yrs_married  children  religious  educ  occupation  \\\n",
       "0            3.0  32.0          9.0       3.0        3.0  17.0         2.0   \n",
       "1            3.0  27.0         13.0       3.0        1.0  14.0         3.0   \n",
       "2            4.0  22.0          2.5       0.0        1.0  16.0         3.0   \n",
       "3            4.0  37.0         16.5       4.0        3.0  16.0         5.0   \n",
       "4            5.0  27.0          9.0       1.0        1.0  14.0         3.0   \n",
       "\n",
       "   occupation_husb  affair_multiclass  \n",
       "0              5.0                  0  \n",
       "1              4.0                  3  \n",
       "2              5.0                  1  \n",
       "3              5.0                  0  \n",
       "4              4.0                  4  "
      ]
     },
     "execution_count": 3,
     "metadata": {},
     "output_type": "execute_result"
    }
   ],
   "source": [
    "trainfile = 'c:/users/ram/documents/ram/data_sets/kaggle/diabetes.csv'\n",
    "datapath = '../Ram/Data_Sets/'\n",
    "filename = 'winequality.csv'\n",
    "filename = 'affairs.csv'\n",
    "trainfile = datapath+filename\n",
    "sep = ','\n",
    "dft = pd.read_csv(trainfile,sep=sep)\n",
    "dft.drop(['affair', 'affairs'],axis=1, inplace=True)\n",
    "print(dft.shape)\n",
    "dft.head()"
   ]
  },
  {
   "cell_type": "code",
   "execution_count": 4,
   "id": "a45c5d91",
   "metadata": {},
   "outputs": [
    {
     "data": {
      "text/plain": [
       "7"
      ]
     },
     "execution_count": 4,
     "metadata": {},
     "output_type": "execute_result"
    }
   ],
   "source": [
    "target = 'affair_multiclass'\n",
    "modeltype = 'Multi_Classification'\n",
    "preds = [x for x in list(dft) if x not in target]\n",
    "dft[target].nunique()"
   ]
  },
  {
   "cell_type": "code",
   "execution_count": 5,
   "id": "d4b61765",
   "metadata": {},
   "outputs": [],
   "source": [
    "from featurewiz import StackingClassifier_Multi, get_class_distribution"
   ]
  },
  {
   "cell_type": "code",
   "execution_count": 6,
   "id": "e938b5b5",
   "metadata": {},
   "outputs": [
    {
     "name": "stdout",
     "output_type": "stream",
     "text": [
      "(5092, 8) (1274, 8)\n"
     ]
    }
   ],
   "source": [
    "from sklearn.model_selection import train_test_split\n",
    "from featurewiz import FE_kmeans_resampler\n",
    "if modeltype == 'Regression':\n",
    "    X_train, X_test, y_train, y_test = train_test_split(dft[preds], dft[target], test_size=0.20, random_state=1,)\n",
    "    X_train_over, y_train_over = FE_kmeans_resampler(X_train, y_train, target, smote='',verbose=0)\n",
    "    print(X_train_over.shape, X_test.shape)\n",
    "    #train, test = pd.concat([X_train_over, pd.Series(y_train_over,name=target)], axis=1), pd.concat([X_test, y_test], axis=1)\n",
    "    train, test = train_test_split(dft, test_size=0.20, random_state=42)\n",
    "else:\n",
    "    X_train, X_test, y_train, y_test = train_test_split(dft[preds], dft[target], test_size=0.20, \n",
    "                                                    stratify=dft[target],\n",
    "                                                    random_state=42)\n",
    "    train, test = train_test_split(dft, test_size=0.20, random_state=42,\n",
    "                                                    stratify=dft[target]\n",
    "                                                   )\n",
    "print(X_train.shape, X_test.shape)"
   ]
  },
  {
   "cell_type": "code",
   "execution_count": 7,
   "id": "b29bfc62",
   "metadata": {},
   "outputs": [],
   "source": [
    "transform_target = True"
   ]
  },
  {
   "cell_type": "code",
   "execution_count": 8,
   "id": "f953a9cf",
   "metadata": {},
   "outputs": [
    {
     "name": "stdout",
     "output_type": "stream",
     "text": [
      "featurewiz is given 0.8 as correlation limit...\n",
      "    Warning: Too many features will be generated since feature engg specified\n",
      "    final list of feature engineering given: ['dae_add']\n",
      "    final list of category encoders given: ['onehot', 'label']\n",
      "Since Auto Encoders are selected for feature extraction,\n",
      "    Recursive XGBoost is skipped...\n",
      "DenoisingAutoEncoder()\n",
      "    AE dictionary given: dict_items([])\n",
      "    final list of scalers given: [minmax]\n",
      "Loaded input data. Shape = (5092, 8)\n",
      "Performing hyper param selection for DAE. Will take approx. 81 seconds\n",
      "    defining a pipeline with MinMaxScaler and DAE\n",
      "Fitting 3 folds for each of 9 candidates, totalling 27 fits\n",
      "Epoch 1/3\n",
      "255/255 [==============================] - 3s 5ms/step - loss: 0.4304 - mse: 0.4304 - val_loss: 0.0897 - val_mse: 0.0897\n",
      "Epoch 2/3\n",
      "255/255 [==============================] - 1s 4ms/step - loss: 0.1744 - mse: 0.1744 - val_loss: 0.0766 - val_mse: 0.0766\n",
      "Epoch 3/3\n",
      "255/255 [==============================] - 1s 4ms/step - loss: 0.1194 - mse: 0.1194 - val_loss: 0.0648 - val_mse: 0.0648\n",
      "    time taken for DAE hyper param selection = 76 seconds\n",
      "{'feature_extractor__batch_size': 16, 'feature_extractor__encoding_dim': 5, 'feature_extractor__epochs': 3}\n",
      "    selecting 8 numeric features for further processing...\n",
      "#### Starting featurewiz transform for train data ####\n",
      "No groupby features created since no groupby feature engg specified\n",
      "No interactions created for categorical vars since no interactions feature engg specified\n",
      "    Single_Label Multi_Classification problem \n",
      "Shape of dataset: (5092, 8). Now we classify variables into different types...\n",
      "    Returning dictionary for variable types with following keys:\n",
      "                        continuous_vars = 8, int_vars = 0, \n",
      "                        discrete_string_vars = 0, nlp_vars = 0,\n",
      "                        date_vars = 0, time_deltas = 0,\n",
      "                        categorical_vars = 0, date_zones = 0\n",
      "    no date time variables detected in this dataset\n",
      "    Beware! onehot encoding can create hundreds if not 1000s of variables...\n",
      "label encoder selected for transforming all categorical variables\n",
      "Using OneHotEncoder() and My_LabelEncoder() as encoders\n",
      "Caution: ### When you have categorical or date-time vars in data, scaling may not be helpful. ##\n",
      "Check the pipeline creation statement for errors (if any):\n",
      "\tmake_column_transformer((imp, intvars),(imp, floatvars),    remainder=remainder)\n",
      "    no other vars left in dataset to transform...\n",
      "Time taken to define data pipeline = 1 second(s)\n",
      "No model input given...\n",
      "Lazy Transformer Pipeline created...\n",
      "    transformed target from object type to numeric\n",
      "    Time taken to fit dataset = 1 second(s)\n",
      "    Time taken to transform dataset = 1 second(s)\n",
      "    Shape of transformed dataset: (5092, 8)\n",
      "Epoch 1/100\n",
      "255/255 [==============================] - 3s 5ms/step - loss: 0.4304 - mse: 0.4304 - val_loss: 0.0898 - val_mse: 0.0898\n",
      "Epoch 2/100\n",
      "255/255 [==============================] - 1s 4ms/step - loss: 0.1744 - mse: 0.1744 - val_loss: 0.0765 - val_mse: 0.0765\n",
      "Epoch 3/100\n",
      "255/255 [==============================] - 1s 4ms/step - loss: 0.1194 - mse: 0.1194 - val_loss: 0.0647 - val_mse: 0.0647\n",
      "Epoch 4/100\n",
      "255/255 [==============================] - 1s 4ms/step - loss: 0.0934 - mse: 0.0934 - val_loss: 0.0561 - val_mse: 0.0561\n",
      "Epoch 5/100\n",
      "255/255 [==============================] - 1s 4ms/step - loss: 0.0770 - mse: 0.0770 - val_loss: 0.0529 - val_mse: 0.0529\n",
      "Epoch 6/100\n",
      "255/255 [==============================] - 1s 4ms/step - loss: 0.0676 - mse: 0.0676 - val_loss: 0.0496 - val_mse: 0.0496\n",
      "Epoch 7/100\n",
      "255/255 [==============================] - 1s 4ms/step - loss: 0.0619 - mse: 0.0619 - val_loss: 0.0469 - val_mse: 0.0469\n",
      "Epoch 8/100\n",
      "255/255 [==============================] - 1s 4ms/step - loss: 0.0583 - mse: 0.0583 - val_loss: 0.0463 - val_mse: 0.0463\n",
      "Epoch 9/100\n",
      "255/255 [==============================] - 1s 4ms/step - loss: 0.0551 - mse: 0.0551 - val_loss: 0.0459 - val_mse: 0.0459\n",
      "Epoch 10/100\n",
      "255/255 [==============================] - 1s 4ms/step - loss: 0.0537 - mse: 0.0537 - val_loss: 0.0444 - val_mse: 0.0444\n",
      "Epoch 11/100\n",
      "255/255 [==============================] - 1s 4ms/step - loss: 0.0525 - mse: 0.0525 - val_loss: 0.0440 - val_mse: 0.0440\n",
      "Epoch 12/100\n",
      "255/255 [==============================] - 1s 4ms/step - loss: 0.0514 - mse: 0.0514 - val_loss: 0.0429 - val_mse: 0.0429\n",
      "Epoch 13/100\n",
      "255/255 [==============================] - 1s 4ms/step - loss: 0.0501 - mse: 0.0501 - val_loss: 0.0422 - val_mse: 0.0422\n",
      "Epoch 14/100\n",
      "255/255 [==============================] - 1s 4ms/step - loss: 0.0501 - mse: 0.0501 - val_loss: 0.0427 - val_mse: 0.0427\n",
      "Epoch 15/100\n",
      "255/255 [==============================] - 1s 5ms/step - loss: 0.0490 - mse: 0.0490 - val_loss: 0.0420 - val_mse: 0.0420\n",
      "Epoch 16/100\n",
      "255/255 [==============================] - 1s 5ms/step - loss: 0.0487 - mse: 0.0487 - val_loss: 0.0430 - val_mse: 0.0430\n",
      "Epoch 17/100\n",
      "255/255 [==============================] - 1s 4ms/step - loss: 0.0480 - mse: 0.0480 - val_loss: 0.0415 - val_mse: 0.0415\n",
      "Epoch 18/100\n",
      "255/255 [==============================] - 1s 4ms/step - loss: 0.0476 - mse: 0.0476 - val_loss: 0.0415 - val_mse: 0.0415\n",
      "Epoch 19/100\n",
      "255/255 [==============================] - 1s 4ms/step - loss: 0.0477 - mse: 0.0477 - val_loss: 0.0409 - val_mse: 0.0409\n",
      "Epoch 20/100\n",
      "255/255 [==============================] - 1s 4ms/step - loss: 0.0477 - mse: 0.0477 - val_loss: 0.0410 - val_mse: 0.0410\n",
      "Epoch 21/100\n",
      "255/255 [==============================] - 1s 4ms/step - loss: 0.0471 - mse: 0.0471 - val_loss: 0.0411 - val_mse: 0.0411\n",
      "Epoch 22/100\n",
      "255/255 [==============================] - 1s 4ms/step - loss: 0.0465 - mse: 0.0465 - val_loss: 0.0404 - val_mse: 0.0404\n",
      "Epoch 23/100\n",
      "255/255 [==============================] - 1s 4ms/step - loss: 0.0465 - mse: 0.0465 - val_loss: 0.0403 - val_mse: 0.0403\n",
      "Epoch 24/100\n",
      "255/255 [==============================] - 1s 4ms/step - loss: 0.0465 - mse: 0.0465 - val_loss: 0.0409 - val_mse: 0.0409\n",
      "Epoch 25/100\n",
      "255/255 [==============================] - 1s 4ms/step - loss: 0.0462 - mse: 0.0462 - val_loss: 0.0404 - val_mse: 0.0404\n",
      "Epoch 26/100\n",
      "255/255 [==============================] - 1s 4ms/step - loss: 0.0462 - mse: 0.0462 - val_loss: 0.0400 - val_mse: 0.0400\n",
      "Epoch 27/100\n",
      "255/255 [==============================] - 1s 4ms/step - loss: 0.0453 - mse: 0.0453 - val_loss: 0.0393 - val_mse: 0.0393\n",
      "Epoch 28/100\n",
      "255/255 [==============================] - 1s 4ms/step - loss: 0.0456 - mse: 0.0456 - val_loss: 0.0391 - val_mse: 0.0391\n",
      "Epoch 29/100\n",
      "255/255 [==============================] - 1s 4ms/step - loss: 0.0452 - mse: 0.0452 - val_loss: 0.0388 - val_mse: 0.0388\n",
      "Epoch 30/100\n",
      "255/255 [==============================] - 1s 4ms/step - loss: 0.0450 - mse: 0.0450 - val_loss: 0.0380 - val_mse: 0.0380\n",
      "Epoch 31/100\n",
      "255/255 [==============================] - 1s 5ms/step - loss: 0.0450 - mse: 0.0450 - val_loss: 0.0387 - val_mse: 0.0387\n",
      "Epoch 32/100\n",
      "255/255 [==============================] - 1s 4ms/step - loss: 0.0448 - mse: 0.0448 - val_loss: 0.0385 - val_mse: 0.0385\n",
      "Epoch 33/100\n",
      "255/255 [==============================] - 1s 4ms/step - loss: 0.0448 - mse: 0.0448 - val_loss: 0.0385 - val_mse: 0.0385\n",
      "Epoch 34/100\n",
      "255/255 [==============================] - 1s 4ms/step - loss: 0.0443 - mse: 0.0443 - val_loss: 0.0381 - val_mse: 0.0381\n",
      "Epoch 35/100\n",
      "255/255 [==============================] - 1s 4ms/step - loss: 0.0439 - mse: 0.0439 - val_loss: 0.0382 - val_mse: 0.0382\n",
      "Fitting and transforming an Auto Encoder for dataset...\n",
      "Shape of transformed data due to auto encoder = (5092, 13)\n",
      "    Single_Label Multi_Classification problem \n",
      "#######################################################################################\n",
      "#####  Searching for Uncorrelated List Of Variables (SULOV) in 13 features ############\n",
      "#######################################################################################\n",
      "Starting SULOV with 13 features...\n",
      "    there are no null values in dataset...\n",
      "    there are no null values in target column...\n",
      "    Removing (4) highly correlated variables:\n",
      "    ['age', 'religious', 'ae_feature_1', 'ae_feature_5']\n",
      "    Following (9) vars selected: ['rate_marriage', 'children', 'educ', 'occupation', 'occupation_husb', 'ae_feature_2', 'ae_feature_4', 'yrs_married', 'ae_feature_3']\n"
     ]
    },
    {
     "data": {
      "image/png": "[encoded data removed]",
      "text/plain": [
       "<Figure size 1080x360 with 1 Axes>"
      ]
     },
     "metadata": {},
     "output_type": "display_data"
    },
    {
     "name": "stdout",
     "output_type": "stream",
     "text": [
      "    time taken to run entire featurewiz = 45 second(s)\n",
      "Recursive XGBoost selected 9 features...\n"
     ]
    }
   ],
   "source": [
    "fwiz = FeatureWiz(corr_limit=0.80, feature_engg='dae_add', category_encoders='auto', scalers='MinMax',\n",
    "                 dask_xgboost_flag=False, nrows=None, verbose=2, skip_sulov=False,\n",
    "                 skip_xgboost=False, transform_target=transform_target,\n",
    "                 ae_options={}) \n",
    "X_train_selected, y_train = fwiz.fit_transform(X_train, y_train) "
   ]
  },
  {
   "cell_type": "code",
   "execution_count": 9,
   "id": "86ac4290",
   "metadata": {},
   "outputs": [
    {
     "name": "stdout",
     "output_type": "stream",
     "text": [
      "#### Starting featurewiz transform for test data ####\n",
      "Loaded input data. Shape = (1274, 8)\n",
      "    Beware! feature_engg will add 100s, if not 1000s of additional features to your dataset!\n",
      "#### Starting lazytransform for test data ####\n",
      "    Time taken to transform dataset = 1 second(s)\n",
      "    Shape of transformed dataset: (1274, 8)\n",
      "Shape of transformed data due to auto encoder = (1274, 13)\n",
      "Returning dataframe with 9 features \n"
     ]
    }
   ],
   "source": [
    "X_test_selected = fwiz.transform(X_test) "
   ]
  },
  {
   "cell_type": "code",
   "execution_count": 10,
   "id": "63f1e341",
   "metadata": {},
   "outputs": [],
   "source": [
    "if transform_target:\n",
    "    y_test = fwiz.lazy.yformer.transform(y_test)"
   ]
  },
  {
   "cell_type": "code",
   "execution_count": 11,
   "id": "4dd52743",
   "metadata": {},
   "outputs": [
    {
     "name": "stdout",
     "output_type": "stream",
     "text": [
      "Bal accu 16%\n",
      "ROC AUC = 0.71\n",
      "              precision    recall  f1-score   support\n",
      "\n",
      "           0       0.83      0.95      0.89      1050\n",
      "           1       0.11      0.03      0.05        86\n",
      "           2       0.13      0.04      0.06        48\n",
      "           3       0.00      0.00      0.00        26\n",
      "           4       0.17      0.06      0.09        35\n",
      "           5       0.00      0.00      0.00        17\n",
      "           6       0.00      0.00      0.00        12\n",
      "\n",
      "    accuracy                           0.79      1274\n",
      "   macro avg       0.18      0.16      0.16      1274\n",
      "weighted avg       0.70      0.79      0.74      1274\n",
      "\n",
      "final average balanced accuracy score = 0.16\n"
     ]
    }
   ],
   "source": [
    "import numpy as np\n",
    "from sklearn.ensemble import RandomForestClassifier, RandomForestRegressor\n",
    "from sklearn.utils import class_weight\n",
    "from sklearn.metrics import accuracy_score, classification_report\n",
    "\n",
    "# Updating the Random Forest Classifier with the corrected class weights\n",
    "if modeltype == 'Regression':\n",
    "    rf_classifier = RandomForestRegressor(random_state=42)\n",
    "else:\n",
    "    # Correctly computing class weights for the classes present in the training set\n",
    "    class_weights_dict_corrected = get_class_distribution(y_train)\n",
    "    rf_classifier = RandomForestClassifier(class_weight=class_weights_dict_corrected, random_state=42)\n",
    "\n",
    "\n",
    "# Fitting the classifier on the training data\n",
    "rf_classifier.fit(X_train_selected, y_train)\n",
    "\n",
    "# Predicting on the test set\n",
    "y_pred = rf_classifier.predict(X_test_selected)\n",
    "\n",
    "if modeltype == 'Regression':\n",
    "    print_regression_metrics(y_test, y_pred, verbose=1)\n",
    "else:\n",
    "    # Evaluating the classifier\n",
    "    y_probas = rf_classifier.predict_proba(X_test_selected)\n",
    "    print_classification_metrics(y_test, y_pred, y_probas, verbose=1)"
   ]
  },
  {
   "cell_type": "code",
   "execution_count": null,
   "id": "531fdc81",
   "metadata": {},
   "outputs": [],
   "source": []
  },
  {
   "cell_type": "code",
   "execution_count": null,
   "id": "e236da8b",
   "metadata": {},
   "outputs": [],
   "source": []
  },
  {
   "cell_type": "raw",
   "id": "5db3cb78",
   "metadata": {},
   "source": [
    "# Usage example\n",
    "import time\n",
    "start_time = time.time()\n",
    "from featurewiz import SupervisedDenoisingAutoEncoder\n",
    "sdae = SupervisedDenoisingAutoEncoder(encoding_dim=5, learning_rate=1e-4,\n",
    "                                      ae_epochs=100, classifier_epochs=100,\n",
    "                                     n_splits=3)\n",
    "sdae.fit(X_train_selected.values, y_train.values)"
   ]
  },
  {
   "cell_type": "code",
   "execution_count": 12,
   "id": "f1ef9690",
   "metadata": {},
   "outputs": [
    {
     "ename": "NameError",
     "evalue": "name 'time' is not defined",
     "output_type": "error",
     "traceback": [
      "\u001b[1;31m---------------------------------------------------------------------------\u001b[0m",
      "\u001b[1;31mNameError\u001b[0m                                 Traceback (most recent call last)",
      "\u001b[1;32m<ipython-input-12-ace2c9f41018>\u001b[0m in \u001b[0;36m<module>\u001b[1;34m\u001b[0m\n\u001b[1;32m----> 1\u001b[1;33m \u001b[0mprint\u001b[0m\u001b[1;33m(\u001b[0m\u001b[1;34m'Time taken = %0.0f seconds'\u001b[0m \u001b[1;33m%\u001b[0m\u001b[1;33m(\u001b[0m\u001b[0mtime\u001b[0m\u001b[1;33m.\u001b[0m\u001b[0mtime\u001b[0m\u001b[1;33m(\u001b[0m\u001b[1;33m)\u001b[0m\u001b[1;33m-\u001b[0m\u001b[0mstart_time\u001b[0m\u001b[1;33m)\u001b[0m\u001b[1;33m)\u001b[0m\u001b[1;33m\u001b[0m\u001b[1;33m\u001b[0m\u001b[0m\n\u001b[0m",
      "\u001b[1;31mNameError\u001b[0m: name 'time' is not defined"
     ]
    }
   ],
   "source": [
    "print('Time taken = %0.0f seconds' %(time.time()-start_time))"
   ]
  },
  {
   "cell_type": "raw",
   "id": "b285ec47",
   "metadata": {},
   "source": [
    "y_pred = sdae.predict(X_test_selected)\n",
    "y_pred"
   ]
  },
  {
   "cell_type": "raw",
   "id": "553bce60",
   "metadata": {},
   "source": [
    "import time\n",
    "start_time = time.time()\n",
    "if modeltype == 'Regression':\n",
    "    print_regression_metrics(y_test, y_pred, verbose=1)\n",
    "else:\n",
    "    # Evaluating the classifier\n",
    "    y_probas = sdae.predict_proba(X_test_selected)\n",
    "    print_classification_metrics(y_test, y_pred, y_probas, verbose=1)\n",
    "print('Time taken = %0.0f seconds' %(time.time()-start_time))"
   ]
  },
  {
   "cell_type": "raw",
   "id": "d9b32109",
   "metadata": {},
   "source": [
    "sdae.autoencoder.summary()"
   ]
  },
  {
   "cell_type": "code",
   "execution_count": null,
   "id": "7e7355a7",
   "metadata": {},
   "outputs": [],
   "source": [
    "disto"
   ]
  },
  {
   "cell_type": "code",
   "execution_count": null,
   "id": "f0bc7efd",
   "metadata": {},
   "outputs": [],
   "source": [
    "from nn_modeler import NN_Modeler"
   ]
  },
  {
   "cell_type": "code",
   "execution_count": null,
   "id": "a264c637",
   "metadata": {},
   "outputs": [],
   "source": [
    "from featurewiz.blagging import BlaggingClassifier"
   ]
  },
  {
   "cell_type": "code",
   "execution_count": null,
   "id": "41cd884c",
   "metadata": {},
   "outputs": [],
   "source": [
    "from featurewiz.ml_models import IterativeClassifier, IterativeForwardClassifier, IterativeBackwardClassifier\n",
    "from featurewiz import IterativeDoubleClassifier"
   ]
  },
  {
   "cell_type": "code",
   "execution_count": null,
   "id": "7a68b95e",
   "metadata": {},
   "outputs": [],
   "source": [
    "from tensorflow.keras.callbacks import EarlyStopping, ReduceLROnPlateau\n",
    "es = EarlyStopping(monitor='val_f1_score', patience=20, restore_best_weights=True, mode='max')\n",
    "lr = ReduceLROnPlateau(monitor='val_f1_score', factor=0.90, patience=10, min_lr=0.0001)\n",
    "callbacks = [lr, es]"
   ]
  },
  {
   "cell_type": "code",
   "execution_count": null,
   "id": "d2417937",
   "metadata": {
    "scrolled": false
   },
   "outputs": [],
   "source": [
    "# Example usage\n",
    "# Create and train the classifier\n",
    "import numpy as np\n",
    "from sklearn.ensemble import RandomForestClassifier, RandomForestRegressor\n",
    "from sklearn.utils import class_weight\n",
    "from sklearn.metrics import accuracy_score, classification_report\n",
    "import time\n",
    "start_time = time.time()\n",
    "\n",
    "# Updating the Random Forest Classifier with the corrected class weights\n",
    "if modeltype == 'Regression':\n",
    "    rf_classifier = RandomForestRegressor(random_state=42)\n",
    "else:\n",
    "    # Correctly computing class weights for the classes present in the training set\n",
    "    class_weights_dict_corrected = get_class_weights(y_train)\n",
    "    ### The Double Classifier is best of the bunch!  It provides very high ROC_AUC but low bal_accuracy\n",
    "    #rf_classifier = IterativeDoubleClassifier( weights = {1: 0.5, 2: 0.5} )\n",
    "    ### The Iterative Classifier is somewhat worse than a regular classifier. Don't know why.\n",
    "    #rf_classifier = IterativeClassifier( threshold=100)\n",
    "    rf_classifier = NN_Modeler(activation='selu', learning_rate=0.001, batch_size=32,\n",
    "                               num_hidden_layers=3,\n",
    "                               epochs=500, callbacks=callbacks)\n",
    "\n",
    "\n",
    "# Fitting the classifier on the training data\n",
    "rf_classifier.fit(X_train_selected, y_train)\n",
    "\n",
    "# Predicting on the test set\n",
    "y_pred = rf_classifier.predict(X_test_selected)\n",
    "\n",
    "if modeltype == 'Regression':\n",
    "    print_regression_metrics(y_test, y_pred, verbose=1)\n",
    "else:\n",
    "    # Evaluating the classifier\n",
    "    y_probas = rf_classifier.predict_proba(X_test_selected)\n",
    "    print_classification_metrics(y_test, y_pred, y_probas, verbose=1)\n",
    "print('Time taken = %0.0f seconds' %(time.time()-start_time))"
   ]
  },
  {
   "cell_type": "code",
   "execution_count": null,
   "id": "9a7c1e89",
   "metadata": {},
   "outputs": [],
   "source": [
    "rf_classifier.batch_size"
   ]
  },
  {
   "cell_type": "code",
   "execution_count": null,
   "id": "2d931525",
   "metadata": {},
   "outputs": [],
   "source": []
  },
  {
   "cell_type": "code",
   "execution_count": null,
   "id": "9c7f179d",
   "metadata": {},
   "outputs": [],
   "source": []
  }
 ],
 "metadata": {
  "kernelspec": {
   "display_name": "Python 3",
   "language": "python",
   "name": "python3"
  },
  "language_info": {
   "codemirror_mode": {
    "name": "ipython",
    "version": 3
   },
   "file_extension": ".py",
   "mimetype": "text/x-python",
   "name": "python",
   "nbconvert_exporter": "python",
   "pygments_lexer": "ipython3",
   "version": "3.8.5"
  }
 },
 "nbformat": 4,
 "nbformat_minor": 5
}
