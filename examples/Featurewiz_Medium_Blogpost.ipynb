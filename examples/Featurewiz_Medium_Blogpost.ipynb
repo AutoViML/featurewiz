{
 "cells": [
  {
   "cell_type": "code",
   "execution_count": 1,
   "id": "ec8fe53a",
   "metadata": {},
   "outputs": [],
   "source": [
    "import pandas as pd\n",
    "import numpy as np"
   ]
  },
  {
   "cell_type": "code",
   "execution_count": 2,
   "id": "507cea74",
   "metadata": {},
   "outputs": [
    {
     "name": "stdout",
     "output_type": "stream",
     "text": [
      "(506, 14)\n"
     ]
    },
    {
     "data": {
      "text/html": [
       "<div>\n",
       "<style scoped>\n",
       "    .dataframe tbody tr th:only-of-type {\n",
       "        vertical-align: middle;\n",
       "    }\n",
       "\n",
       "    .dataframe tbody tr th {\n",
       "        vertical-align: top;\n",
       "    }\n",
       "\n",
       "    .dataframe thead th {\n",
       "        text-align: right;\n",
       "    }\n",
       "</style>\n",
       "<table border=\"1\" class=\"dataframe\">\n",
       "  <thead>\n",
       "    <tr style=\"text-align: right;\">\n",
       "      <th></th>\n",
       "      <th>CRIM</th>\n",
       "      <th>ZN</th>\n",
       "      <th>INDUS</th>\n",
       "      <th>CHAS</th>\n",
       "      <th>NOX</th>\n",
       "      <th>RM</th>\n",
       "      <th>AGE</th>\n",
       "      <th>DIS</th>\n",
       "      <th>RAD</th>\n",
       "      <th>TAX</th>\n",
       "      <th>PTRATIO</th>\n",
       "      <th>B</th>\n",
       "      <th>LSTAT</th>\n",
       "      <th>MEDV</th>\n",
       "    </tr>\n",
       "  </thead>\n",
       "  <tbody>\n",
       "    <tr>\n",
       "      <th>0</th>\n",
       "      <td>0.00632</td>\n",
       "      <td>18.0</td>\n",
       "      <td>2.31</td>\n",
       "      <td>0</td>\n",
       "      <td>0.538</td>\n",
       "      <td>6.575</td>\n",
       "      <td>65.2</td>\n",
       "      <td>4.0900</td>\n",
       "      <td>1</td>\n",
       "      <td>296</td>\n",
       "      <td>15.3</td>\n",
       "      <td>396.90</td>\n",
       "      <td>4.98</td>\n",
       "      <td>24.0</td>\n",
       "    </tr>\n",
       "    <tr>\n",
       "      <th>1</th>\n",
       "      <td>0.02731</td>\n",
       "      <td>0.0</td>\n",
       "      <td>7.07</td>\n",
       "      <td>0</td>\n",
       "      <td>0.469</td>\n",
       "      <td>6.421</td>\n",
       "      <td>78.9</td>\n",
       "      <td>4.9671</td>\n",
       "      <td>2</td>\n",
       "      <td>242</td>\n",
       "      <td>17.8</td>\n",
       "      <td>396.90</td>\n",
       "      <td>9.14</td>\n",
       "      <td>21.6</td>\n",
       "    </tr>\n",
       "    <tr>\n",
       "      <th>2</th>\n",
       "      <td>0.02729</td>\n",
       "      <td>0.0</td>\n",
       "      <td>7.07</td>\n",
       "      <td>0</td>\n",
       "      <td>0.469</td>\n",
       "      <td>7.185</td>\n",
       "      <td>61.1</td>\n",
       "      <td>4.9671</td>\n",
       "      <td>2</td>\n",
       "      <td>242</td>\n",
       "      <td>17.8</td>\n",
       "      <td>392.83</td>\n",
       "      <td>4.03</td>\n",
       "      <td>34.7</td>\n",
       "    </tr>\n",
       "    <tr>\n",
       "      <th>3</th>\n",
       "      <td>0.03237</td>\n",
       "      <td>0.0</td>\n",
       "      <td>2.18</td>\n",
       "      <td>0</td>\n",
       "      <td>0.458</td>\n",
       "      <td>6.998</td>\n",
       "      <td>45.8</td>\n",
       "      <td>6.0622</td>\n",
       "      <td>3</td>\n",
       "      <td>222</td>\n",
       "      <td>18.7</td>\n",
       "      <td>394.63</td>\n",
       "      <td>2.94</td>\n",
       "      <td>33.4</td>\n",
       "    </tr>\n",
       "    <tr>\n",
       "      <th>4</th>\n",
       "      <td>0.06905</td>\n",
       "      <td>0.0</td>\n",
       "      <td>2.18</td>\n",
       "      <td>0</td>\n",
       "      <td>0.458</td>\n",
       "      <td>7.147</td>\n",
       "      <td>54.2</td>\n",
       "      <td>6.0622</td>\n",
       "      <td>3</td>\n",
       "      <td>222</td>\n",
       "      <td>18.7</td>\n",
       "      <td>396.90</td>\n",
       "      <td>5.33</td>\n",
       "      <td>36.2</td>\n",
       "    </tr>\n",
       "  </tbody>\n",
       "</table>\n",
       "</div>"
      ],
      "text/plain": [
       "      CRIM    ZN  INDUS  CHAS    NOX     RM   AGE     DIS  RAD  TAX  PTRATIO  \\\n",
       "0  0.00632  18.0   2.31     0  0.538  6.575  65.2  4.0900    1  296     15.3   \n",
       "1  0.02731   0.0   7.07     0  0.469  6.421  78.9  4.9671    2  242     17.8   \n",
       "2  0.02729   0.0   7.07     0  0.469  7.185  61.1  4.9671    2  242     17.8   \n",
       "3  0.03237   0.0   2.18     0  0.458  6.998  45.8  6.0622    3  222     18.7   \n",
       "4  0.06905   0.0   2.18     0  0.458  7.147  54.2  6.0622    3  222     18.7   \n",
       "\n",
       "        B  LSTAT  MEDV  \n",
       "0  396.90   4.98  24.0  \n",
       "1  396.90   9.14  21.6  \n",
       "2  392.83   4.03  34.7  \n",
       "3  394.63   2.94  33.4  \n",
       "4  396.90   5.33  36.2  "
      ]
     },
     "execution_count": 2,
     "metadata": {},
     "output_type": "execute_result"
    }
   ],
   "source": [
    "#datapath = '../Ram/Data_Sets/'\n",
    "datapath = '../Ram/Data_Sets/'\n",
    "filename = 'boston.csv'\n",
    "trainfile = datapath+filename\n",
    "sep = '\\t'\n",
    "dft = pd.read_csv(trainfile, sep=sep)\n",
    "#dft.drop(['Churn2'],axis=1, inplace=True)\n",
    "print(dft.shape)\n",
    "target = ['MEDV']\n",
    "dft.head()"
   ]
  },
  {
   "cell_type": "code",
   "execution_count": 3,
   "id": "6bd0f6d4",
   "metadata": {},
   "outputs": [
    {
     "data": {
      "text/plain": [
       "MEDV    0\n",
       "dtype: int64"
      ]
     },
     "execution_count": 3,
     "metadata": {},
     "output_type": "execute_result"
    }
   ],
   "source": [
    "dft[target[0]] = dft[target[0]].fillna(0)\n",
    "dft[target].isnull().sum()"
   ]
  },
  {
   "cell_type": "code",
   "execution_count": 4,
   "id": "f0dba194",
   "metadata": {},
   "outputs": [
    {
     "data": {
      "text/plain": [
       "13"
      ]
     },
     "execution_count": 4,
     "metadata": {},
     "output_type": "execute_result"
    }
   ],
   "source": [
    "preds = [x for x in list(dft) if x not in target]\n",
    "len(preds)"
   ]
  },
  {
   "cell_type": "code",
   "execution_count": 5,
   "id": "5a1957b1",
   "metadata": {},
   "outputs": [
    {
     "name": "stdout",
     "output_type": "stream",
     "text": [
      "(404, 13) (102, 13)\n"
     ]
    }
   ],
   "source": [
    "##get train and test data\n",
    "from sklearn.model_selection import train_test_split\n",
    "X_train, X_test, y_train, y_test = train_test_split(dft[preds], dft[target], test_size=0.20, random_state=1,\n",
    "#                                                    stratify=dft[target]\n",
    "                                                   )\n",
    "print(X_train.shape, X_test.shape)"
   ]
  },
  {
   "cell_type": "code",
   "execution_count": 6,
   "id": "24adc52f",
   "metadata": {},
   "outputs": [],
   "source": [
    "from sklearn.model_selection import train_test_split\n",
    "train, test = train_test_split(dft, test_size=0.20, random_state=1,\n",
    "#                                                    stratify=dft[target]\n",
    "                                                   )"
   ]
  },
  {
   "cell_type": "code",
   "execution_count": 7,
   "id": "e4f5b1d6",
   "metadata": {},
   "outputs": [
    {
     "name": "stdout",
     "output_type": "stream",
     "text": [
      "Imported 0.1.997 version. Select nrows to a small number when running on huge datasets.\n",
      "output = featurewiz(dataname, target, corr_limit=0.90, verbose=2, sep=',', \n",
      "\t\theader=0, test_data='',feature_engg='', category_encoders='',\n",
      "\t\tdask_xgboost_flag=False, nrows=None)\n",
      "Create new features via 'feature_engg' flag : ['interactions','groupby','target']\n",
      "\n"
     ]
    }
   ],
   "source": [
    "import featurewiz as FW"
   ]
  },
  {
   "cell_type": "code",
   "execution_count": 14,
   "id": "ceccce96",
   "metadata": {},
   "outputs": [
    {
     "name": "stdout",
     "output_type": "stream",
     "text": [
      "############################################################################################\n",
      "############       F A S T   F E A T U R E  E N G G    A N D    S E L E C T I O N ! ########\n",
      "# Be judicious with featurewiz. Don't use it to create too many un-interpretable features! #\n",
      "############################################################################################\n",
      "correlation limit = 0.9\n",
      "Skipping feature engineering since no feature_engg input...\n",
      "Skipping category encoding since no category encoders specified in input...\n",
      "#### Single_Label Regression problem ####\n",
      "    Loaded train data. Shape = (404, 14)\n",
      "#### Single_Label Regression problem ####\n",
      "loading the entire test dataframe - there is no nrows limit applicable #########\n",
      "    Loaded test data. Shape = (102, 14)\n",
      "#######################################################################################\n",
      "######################## C L A S S I F Y I N G  V A R I A B L E S  ####################\n",
      "#######################################################################################\n",
      "        No variables were removed since no ID or low-information variables found in data set\n",
      "No GPU active on this device\n",
      "    Tuning XGBoost using CPU hyper-parameters. This will take time...\n",
      "    After removing redundant variables from further processing, features left = 13\n",
      "No interactions created for categorical vars since feature engg does not specify it\n",
      "#######################################################################################\n",
      "#####  Searching for Uncorrelated List Of Variables (SULOV) in 13 features ############\n",
      "#######################################################################################\n",
      "    there are no null values in dataset...\n",
      "    Removing (1) highly correlated variables:\n",
      "    ['RAD']\n",
      "    Following (12) vars selected: ['AGE', 'B', 'CHAS', 'CRIM', 'DIS', 'INDUS', 'LSTAT', 'NOX', 'PTRATIO', 'RM', 'ZN', 'TAX']\n"
     ]
    },
    {
     "data": {
      "image/png": "[encoded data removed]",
      "text/plain": [
       "<Figure size 1080x360 with 1 Axes>"
      ]
     },
     "metadata": {},
     "output_type": "display_data"
    },
    {
     "name": "stdout",
     "output_type": "stream",
     "text": [
      "Time taken for SULOV method = 1 seconds\n",
      "    Adding 0 categorical variables to reduced numeric variables  of 12\n",
      "Final list of selected 12 vars after SULOV = ['AGE', 'B', 'CHAS', 'CRIM', 'DIS', 'INDUS', 'LSTAT', 'NOX', 'PTRATIO', 'RM', 'ZN', 'TAX']\n",
      "Converting all features to numeric before sending to XGBoost...\n",
      "#######################################################################################\n",
      "#####    R E C U R S I V E   X G B O O S T : F E A T U R E   S E L E C T I O N  #######\n",
      "#######################################################################################\n",
      "    using regular XGBoost\n",
      "Current number of predictors before recursive XGBoost = 12 \n",
      "    Taking top 3 features per iteration...\n",
      "    XGBoost version using 1.5.2 as tree method: hist\n",
      "Number of booster rounds = 100\n",
      "        using 12 variables...\n",
      "            Time taken for regular XGBoost feature selection = 0 seconds\n",
      "        using 10 variables...\n",
      "            Time taken for regular XGBoost feature selection = 0 seconds\n",
      "        using 8 variables...\n",
      "            Time taken for regular XGBoost feature selection = 0 seconds\n",
      "        using 6 variables...\n",
      "            Time taken for regular XGBoost feature selection = 0 seconds\n",
      "        using 4 variables...\n",
      "            Time taken for regular XGBoost feature selection = 0 seconds\n",
      "    Completed XGBoost feature selection in 0 seconds\n",
      "#######################################################################################\n",
      "#####          F E A T U R E   S E L E C T I O N   C O M P L E T E D            #######\n",
      "#######################################################################################\n",
      "Selected 6 important features:\n",
      "['LSTAT', 'RM', 'DIS', 'NOX', 'PTRATIO', 'TAX']\n",
      "Total Time taken for featurewiz selection = 2 seconds\n",
      "Output contains two dataframes: train and test with 6 important features.\n"
     ]
    }
   ],
   "source": [
    "trainm, testm = FW.featurewiz(train, target,  test_data=test, verbose=1,# corr_limit=0.90, \n",
    "#        sep=',', header=0,feature_engg='', category_encoders='',\n",
    "#\t\tdask_xgboost_flag=False, nrows=None\n",
    "                             )"
   ]
  },
  {
   "cell_type": "code",
   "execution_count": 9,
   "id": "aa4a6e27",
   "metadata": {},
   "outputs": [
    {
     "name": "stdout",
     "output_type": "stream",
     "text": [
      "#### Single_Label Regression problem ####\n",
      "# Simple XGBoost is a good choice compared to complex_XGBoost_model for Regression problems.\n",
      "    Hyper Param Tuning XGBoost with CPU parameters. This will take time. Please be patient...\n",
      "[0]\tvalidation_0-rmse:22.44154\n",
      "[1]\tvalidation_0-rmse:21.76996\n",
      "[2]\tvalidation_0-rmse:21.13335\n",
      "[3]\tvalidation_0-rmse:20.49731\n",
      "[4]\tvalidation_0-rmse:19.90981\n",
      "[5]\tvalidation_0-rmse:19.30797\n",
      "[6]\tvalidation_0-rmse:18.74095\n",
      "[7]\tvalidation_0-rmse:18.19146\n",
      "[8]\tvalidation_0-rmse:17.64797\n",
      "[9]\tvalidation_0-rmse:17.16114\n",
      "[10]\tvalidation_0-rmse:16.62407\n",
      "[11]\tvalidation_0-rmse:16.12639\n",
      "[12]\tvalidation_0-rmse:15.63559\n",
      "[13]\tvalidation_0-rmse:15.15839\n",
      "[14]\tvalidation_0-rmse:14.72383\n",
      "[15]\tvalidation_0-rmse:14.30304\n",
      "[16]\tvalidation_0-rmse:13.89959\n",
      "[17]\tvalidation_0-rmse:13.49292\n",
      "[18]\tvalidation_0-rmse:13.11760\n",
      "[19]\tvalidation_0-rmse:12.75288\n",
      "[20]\tvalidation_0-rmse:12.41028\n",
      "[21]\tvalidation_0-rmse:12.06922\n",
      "[22]\tvalidation_0-rmse:11.72452\n",
      "[23]\tvalidation_0-rmse:11.39889\n",
      "[24]\tvalidation_0-rmse:11.08278\n",
      "[25]\tvalidation_0-rmse:10.78942\n",
      "[26]\tvalidation_0-rmse:10.49035\n",
      "[27]\tvalidation_0-rmse:10.20727\n",
      "[28]\tvalidation_0-rmse:9.93463\n",
      "[29]\tvalidation_0-rmse:9.67776\n",
      "[30]\tvalidation_0-rmse:9.41394\n",
      "[31]\tvalidation_0-rmse:9.16279\n",
      "[32]\tvalidation_0-rmse:8.92936\n",
      "[33]\tvalidation_0-rmse:8.70722\n",
      "[34]\tvalidation_0-rmse:8.47082\n",
      "[35]\tvalidation_0-rmse:8.27217\n",
      "[36]\tvalidation_0-rmse:8.07197\n",
      "[37]\tvalidation_0-rmse:7.85769\n",
      "[38]\tvalidation_0-rmse:7.67669\n",
      "[39]\tvalidation_0-rmse:7.48286\n",
      "[40]\tvalidation_0-rmse:7.28345\n",
      "[41]\tvalidation_0-rmse:7.09488\n",
      "[42]\tvalidation_0-rmse:6.93035\n",
      "[43]\tvalidation_0-rmse:6.74967\n",
      "[44]\tvalidation_0-rmse:6.58881\n",
      "[45]\tvalidation_0-rmse:6.44435\n",
      "[46]\tvalidation_0-rmse:6.28675\n",
      "[47]\tvalidation_0-rmse:6.15451\n",
      "[48]\tvalidation_0-rmse:6.03089\n",
      "[49]\tvalidation_0-rmse:5.90888\n",
      "[50]\tvalidation_0-rmse:5.78976\n",
      "[51]\tvalidation_0-rmse:5.65475\n",
      "[52]\tvalidation_0-rmse:5.53192\n",
      "[53]\tvalidation_0-rmse:5.41939\n",
      "[54]\tvalidation_0-rmse:5.30512\n",
      "[55]\tvalidation_0-rmse:5.21249\n",
      "[56]\tvalidation_0-rmse:5.10605\n",
      "[57]\tvalidation_0-rmse:5.00028\n",
      "[58]\tvalidation_0-rmse:4.89894\n",
      "[59]\tvalidation_0-rmse:4.81359\n",
      "[60]\tvalidation_0-rmse:4.71517\n",
      "[61]\tvalidation_0-rmse:4.62659\n",
      "[62]\tvalidation_0-rmse:4.54210\n",
      "[63]\tvalidation_0-rmse:4.46106\n",
      "[64]\tvalidation_0-rmse:4.39123\n",
      "[65]\tvalidation_0-rmse:4.31438\n",
      "[66]\tvalidation_0-rmse:4.25034\n",
      "[67]\tvalidation_0-rmse:4.19208\n",
      "[68]\tvalidation_0-rmse:4.13733\n",
      "[69]\tvalidation_0-rmse:4.07425\n",
      "[70]\tvalidation_0-rmse:4.02456\n",
      "[71]\tvalidation_0-rmse:3.98085\n",
      "[72]\tvalidation_0-rmse:3.92890\n",
      "[73]\tvalidation_0-rmse:3.88932\n",
      "[74]\tvalidation_0-rmse:3.85035\n",
      "[75]\tvalidation_0-rmse:3.81519\n",
      "[76]\tvalidation_0-rmse:3.77698\n",
      "[77]\tvalidation_0-rmse:3.73584\n",
      "[78]\tvalidation_0-rmse:3.69120\n",
      "[79]\tvalidation_0-rmse:3.65526\n",
      "[80]\tvalidation_0-rmse:3.62191\n",
      "[81]\tvalidation_0-rmse:3.59403\n",
      "[82]\tvalidation_0-rmse:3.56156\n",
      "[83]\tvalidation_0-rmse:3.53182\n",
      "[84]\tvalidation_0-rmse:3.50033\n",
      "[85]\tvalidation_0-rmse:3.46663\n",
      "[86]\tvalidation_0-rmse:3.44848\n",
      "[87]\tvalidation_0-rmse:3.42002\n",
      "[88]\tvalidation_0-rmse:3.39711\n",
      "[89]\tvalidation_0-rmse:3.37055\n",
      "[90]\tvalidation_0-rmse:3.34918\n",
      "[91]\tvalidation_0-rmse:3.33432\n",
      "[92]\tvalidation_0-rmse:3.31150\n",
      "[93]\tvalidation_0-rmse:3.29514\n",
      "[94]\tvalidation_0-rmse:3.27281\n",
      "[95]\tvalidation_0-rmse:3.25799\n",
      "[96]\tvalidation_0-rmse:3.23280\n",
      "[97]\tvalidation_0-rmse:3.21117\n",
      "[98]\tvalidation_0-rmse:3.20203\n",
      "[99]\tvalidation_0-rmse:3.18177\n",
      "[100]\tvalidation_0-rmse:3.15734\n",
      "[101]\tvalidation_0-rmse:3.14638\n",
      "[102]\tvalidation_0-rmse:3.13545\n",
      "[103]\tvalidation_0-rmse:3.11526\n",
      "[104]\tvalidation_0-rmse:3.09775\n",
      "[105]\tvalidation_0-rmse:3.08975\n",
      "[106]\tvalidation_0-rmse:3.08237\n",
      "[107]\tvalidation_0-rmse:3.07377\n",
      "[108]\tvalidation_0-rmse:3.06246\n",
      "[109]\tvalidation_0-rmse:3.05562\n",
      "[110]\tvalidation_0-rmse:3.04409\n",
      "[111]\tvalidation_0-rmse:3.03856\n",
      "[112]\tvalidation_0-rmse:3.02882\n",
      "[113]\tvalidation_0-rmse:3.02465\n",
      "[114]\tvalidation_0-rmse:3.01822\n",
      "[115]\tvalidation_0-rmse:3.01042\n",
      "[116]\tvalidation_0-rmse:2.99564\n",
      "[117]\tvalidation_0-rmse:2.98830\n",
      "[118]\tvalidation_0-rmse:2.97944\n",
      "[119]\tvalidation_0-rmse:2.97602\n",
      "[120]\tvalidation_0-rmse:2.97529\n",
      "[121]\tvalidation_0-rmse:2.97293\n",
      "[122]\tvalidation_0-rmse:2.96658\n",
      "[123]\tvalidation_0-rmse:2.96258\n",
      "[124]\tvalidation_0-rmse:2.96392\n",
      "[125]\tvalidation_0-rmse:2.95614\n",
      "[126]\tvalidation_0-rmse:2.95522\n",
      "[127]\tvalidation_0-rmse:2.94862\n",
      "[128]\tvalidation_0-rmse:2.94604\n",
      "[129]\tvalidation_0-rmse:2.93852\n",
      "[130]\tvalidation_0-rmse:2.93780\n",
      "[131]\tvalidation_0-rmse:2.92808\n",
      "[132]\tvalidation_0-rmse:2.91869\n",
      "[133]\tvalidation_0-rmse:2.92229\n",
      "[134]\tvalidation_0-rmse:2.91881\n",
      "[135]\tvalidation_0-rmse:2.91562\n",
      "[136]\tvalidation_0-rmse:2.90911\n",
      "[137]\tvalidation_0-rmse:2.90871\n",
      "[138]\tvalidation_0-rmse:2.90737\n",
      "[139]\tvalidation_0-rmse:2.89382\n",
      "[140]\tvalidation_0-rmse:2.89438\n",
      "[141]\tvalidation_0-rmse:2.89291\n",
      "[142]\tvalidation_0-rmse:2.88853\n",
      "[143]\tvalidation_0-rmse:2.88992\n",
      "[144]\tvalidation_0-rmse:2.88584\n",
      "[145]\tvalidation_0-rmse:2.88180\n",
      "[146]\tvalidation_0-rmse:2.87876\n",
      "[147]\tvalidation_0-rmse:2.87256\n",
      "[148]\tvalidation_0-rmse:2.86979\n",
      "[149]\tvalidation_0-rmse:2.86390\n",
      "[150]\tvalidation_0-rmse:2.86572\n",
      "[151]\tvalidation_0-rmse:2.86309\n",
      "[152]\tvalidation_0-rmse:2.86101\n",
      "[153]\tvalidation_0-rmse:2.86037\n",
      "[154]\tvalidation_0-rmse:2.85807\n",
      "[155]\tvalidation_0-rmse:2.85339\n",
      "[156]\tvalidation_0-rmse:2.85167\n",
      "[157]\tvalidation_0-rmse:2.84788\n",
      "[158]\tvalidation_0-rmse:2.84463\n",
      "[159]\tvalidation_0-rmse:2.84456\n",
      "[160]\tvalidation_0-rmse:2.84444\n",
      "[161]\tvalidation_0-rmse:2.84459\n",
      "[162]\tvalidation_0-rmse:2.84500\n",
      "[163]\tvalidation_0-rmse:2.84112\n",
      "[164]\tvalidation_0-rmse:2.84294\n",
      "[165]\tvalidation_0-rmse:2.84201\n",
      "[166]\tvalidation_0-rmse:2.84165\n",
      "[167]\tvalidation_0-rmse:2.84081\n",
      "[168]\tvalidation_0-rmse:2.83973\n",
      "[169]\tvalidation_0-rmse:2.83905\n",
      "[170]\tvalidation_0-rmse:2.83936\n",
      "[171]\tvalidation_0-rmse:2.83740\n",
      "[172]\tvalidation_0-rmse:2.83684\n",
      "[173]\tvalidation_0-rmse:2.84010\n",
      "[174]\tvalidation_0-rmse:2.83901\n",
      "[175]\tvalidation_0-rmse:2.83710\n",
      "[176]\tvalidation_0-rmse:2.83710\n",
      "[177]\tvalidation_0-rmse:2.83375\n",
      "[178]\tvalidation_0-rmse:2.83348\n",
      "[179]\tvalidation_0-rmse:2.83253\n",
      "[180]\tvalidation_0-rmse:2.82926\n",
      "[181]\tvalidation_0-rmse:2.82950\n",
      "[182]\tvalidation_0-rmse:2.82772\n",
      "[183]\tvalidation_0-rmse:2.82678\n",
      "[184]\tvalidation_0-rmse:2.82201\n",
      "[185]\tvalidation_0-rmse:2.82051\n",
      "[186]\tvalidation_0-rmse:2.82071\n",
      "[187]\tvalidation_0-rmse:2.81765\n",
      "[188]\tvalidation_0-rmse:2.81711\n",
      "[189]\tvalidation_0-rmse:2.81428\n",
      "[190]\tvalidation_0-rmse:2.81466\n",
      "[191]\tvalidation_0-rmse:2.81715\n",
      "[192]\tvalidation_0-rmse:2.81656\n",
      "[193]\tvalidation_0-rmse:2.81472\n",
      "Time taken for Hyper Param tuning of XGB (in minutes) = 0.2\n"
     ]
    },
    {
     "data": {
      "application/vnd.jupyter.widget-view+json": {
       "model_id": "4a5a28be2d9b41d2a98073d49e65e767",
       "version_major": 2,
       "version_minor": 0
      },
      "text/plain": [
       "0it [00:00, ?it/s]"
      ]
     },
     "metadata": {},
     "output_type": "display_data"
    },
    {
     "name": "stdout",
     "output_type": "stream",
     "text": [
      "RMSE score in fold 1 = 2.977173697116477\n",
      "RMSE score in fold 2 = 3.611263064975329\n",
      "RMSE score in fold 3 = 3.2843705435332997\n",
      "RMSE score in fold 4 = 3.383184732837887\n",
      "RMSE score in fold 5 = 3.006418342738492\n",
      "    Time taken for Cross Validation of XGBoost (in minutes) = 0.1\n",
      "\n",
      "Cross-validated Average scores are:  3.252482076240297\n",
      "Training model on full train dataset...\n",
      "    Time taken for training XGBoost (in minutes) = 0.0\n",
      "Returning the following:\n",
      "    final predictions [30.41788  28.410368 19.549873 20.595715 19.591265 20.225937 25.007622\n",
      " 18.65737  21.864565 23.829147]\n",
      "    Model = XGBRegressor(alpha=0.015, base_score=0.5, booster='gbtree', colsample_bylevel=1,\n",
      "             colsample_bynode=1, colsample_bytree=0.5, enable_categorical=False,\n",
      "             eval_metric='rmse', gamma=8, gpu_id=0, importance_type=None,\n",
      "             interaction_constraints='', learning_rate=0.031446387626298145,\n",
      "             max_delta_step=0, max_depth=8, min_child_weight=2, missing=nan,\n",
      "             monotone_constraints='()', n_estimators=485, n_jobs=-1,\n",
      "             num_parallel_tree=1, predictor='cpu_predictor', random_state=99,\n",
      "             reg_alpha=0, reg_lambda=0.5, scale_pos_weight=1, silent=True,\n",
      "             subsample=0.7, tree_method='hist', updater='grow_colmaker', ...)\n"
     ]
    }
   ],
   "source": [
    "from featurewiz import simple_XGBoost_model\n",
    "y_preds = simple_XGBoost_model(train[preds], train[target], test[preds])\n",
    "ypreds1 = y_preds[0]"
   ]
  },
  {
   "cell_type": "code",
   "execution_count": 10,
   "id": "b7348790",
   "metadata": {},
   "outputs": [
    {
     "data": {
      "text/plain": [
       "6"
      ]
     },
     "execution_count": 10,
     "metadata": {},
     "output_type": "execute_result"
    }
   ],
   "source": [
    "feats = testm.columns.tolist()\n",
    "len(feats)"
   ]
  },
  {
   "cell_type": "code",
   "execution_count": 11,
   "id": "5d78aaf7",
   "metadata": {},
   "outputs": [
    {
     "name": "stdout",
     "output_type": "stream",
     "text": [
      "#### Single_Label Regression problem ####\n",
      "# Simple XGBoost is a good choice compared to complex_XGBoost_model for Regression problems.\n",
      "    Hyper Param Tuning XGBoost with CPU parameters. This will take time. Please be patient...\n",
      "[0]\tvalidation_0-rmse:22.38506\n",
      "[1]\tvalidation_0-rmse:21.74566\n",
      "[2]\tvalidation_0-rmse:21.11743\n",
      "[3]\tvalidation_0-rmse:20.50002\n",
      "[4]\tvalidation_0-rmse:19.88286\n",
      "[5]\tvalidation_0-rmse:19.29656\n",
      "[6]\tvalidation_0-rmse:18.74860\n",
      "[7]\tvalidation_0-rmse:18.20086\n",
      "[8]\tvalidation_0-rmse:17.66310\n",
      "[9]\tvalidation_0-rmse:17.13972\n",
      "[10]\tvalidation_0-rmse:16.67624\n",
      "[11]\tvalidation_0-rmse:16.17764\n",
      "[12]\tvalidation_0-rmse:15.70590\n",
      "[13]\tvalidation_0-rmse:15.24260\n",
      "[14]\tvalidation_0-rmse:14.79668\n",
      "[15]\tvalidation_0-rmse:14.36594\n",
      "[16]\tvalidation_0-rmse:13.96215\n",
      "[17]\tvalidation_0-rmse:13.55664\n",
      "[18]\tvalidation_0-rmse:13.17717\n",
      "[19]\tvalidation_0-rmse:12.81302\n",
      "[20]\tvalidation_0-rmse:12.44554\n",
      "[21]\tvalidation_0-rmse:12.10055\n",
      "[22]\tvalidation_0-rmse:11.76230\n",
      "[23]\tvalidation_0-rmse:11.42632\n",
      "[24]\tvalidation_0-rmse:11.09725\n",
      "[25]\tvalidation_0-rmse:10.78459\n",
      "[26]\tvalidation_0-rmse:10.48684\n",
      "[27]\tvalidation_0-rmse:10.20928\n",
      "[28]\tvalidation_0-rmse:9.94685\n",
      "[29]\tvalidation_0-rmse:9.69379\n",
      "[30]\tvalidation_0-rmse:9.45852\n",
      "[31]\tvalidation_0-rmse:9.22297\n",
      "[32]\tvalidation_0-rmse:8.98810\n",
      "[33]\tvalidation_0-rmse:8.74991\n",
      "[34]\tvalidation_0-rmse:8.52826\n",
      "[35]\tvalidation_0-rmse:8.30350\n",
      "[36]\tvalidation_0-rmse:8.11091\n",
      "[37]\tvalidation_0-rmse:7.91933\n",
      "[38]\tvalidation_0-rmse:7.71944\n",
      "[39]\tvalidation_0-rmse:7.52850\n",
      "[40]\tvalidation_0-rmse:7.35433\n",
      "[41]\tvalidation_0-rmse:7.16370\n",
      "[42]\tvalidation_0-rmse:6.98240\n",
      "[43]\tvalidation_0-rmse:6.81198\n",
      "[44]\tvalidation_0-rmse:6.66207\n",
      "[45]\tvalidation_0-rmse:6.51441\n",
      "[46]\tvalidation_0-rmse:6.36804\n",
      "[47]\tvalidation_0-rmse:6.24166\n",
      "[48]\tvalidation_0-rmse:6.12019\n",
      "[49]\tvalidation_0-rmse:6.00523\n",
      "[50]\tvalidation_0-rmse:5.88655\n",
      "[51]\tvalidation_0-rmse:5.75879\n",
      "[52]\tvalidation_0-rmse:5.62858\n",
      "[53]\tvalidation_0-rmse:5.50899\n",
      "[54]\tvalidation_0-rmse:5.40443\n",
      "[55]\tvalidation_0-rmse:5.30399\n",
      "[56]\tvalidation_0-rmse:5.21360\n",
      "[57]\tvalidation_0-rmse:5.13146\n",
      "[58]\tvalidation_0-rmse:5.05088\n",
      "[59]\tvalidation_0-rmse:4.95176\n",
      "[60]\tvalidation_0-rmse:4.86838\n",
      "[61]\tvalidation_0-rmse:4.78782\n",
      "[62]\tvalidation_0-rmse:4.71493\n",
      "[63]\tvalidation_0-rmse:4.63872\n",
      "[64]\tvalidation_0-rmse:4.57764\n",
      "[65]\tvalidation_0-rmse:4.50907\n",
      "[66]\tvalidation_0-rmse:4.44235\n",
      "[67]\tvalidation_0-rmse:4.36493\n",
      "[68]\tvalidation_0-rmse:4.30427\n",
      "[69]\tvalidation_0-rmse:4.25056\n",
      "[70]\tvalidation_0-rmse:4.18977\n",
      "[71]\tvalidation_0-rmse:4.13744\n",
      "[72]\tvalidation_0-rmse:4.09251\n",
      "[73]\tvalidation_0-rmse:4.04458\n",
      "[74]\tvalidation_0-rmse:4.00799\n",
      "[75]\tvalidation_0-rmse:3.97592\n",
      "[76]\tvalidation_0-rmse:3.93571\n",
      "[77]\tvalidation_0-rmse:3.88373\n",
      "[78]\tvalidation_0-rmse:3.85051\n",
      "[79]\tvalidation_0-rmse:3.82105\n",
      "[80]\tvalidation_0-rmse:3.78220\n",
      "[81]\tvalidation_0-rmse:3.74234\n",
      "[82]\tvalidation_0-rmse:3.70982\n",
      "[83]\tvalidation_0-rmse:3.68615\n",
      "[84]\tvalidation_0-rmse:3.66191\n",
      "[85]\tvalidation_0-rmse:3.62614\n",
      "[86]\tvalidation_0-rmse:3.59619\n",
      "[87]\tvalidation_0-rmse:3.57506\n",
      "[88]\tvalidation_0-rmse:3.55937\n",
      "[89]\tvalidation_0-rmse:3.53670\n",
      "[90]\tvalidation_0-rmse:3.51505\n",
      "[91]\tvalidation_0-rmse:3.48813\n",
      "[92]\tvalidation_0-rmse:3.47284\n",
      "[93]\tvalidation_0-rmse:3.44528\n",
      "[94]\tvalidation_0-rmse:3.42790\n",
      "[95]\tvalidation_0-rmse:3.41111\n",
      "[96]\tvalidation_0-rmse:3.39971\n",
      "[97]\tvalidation_0-rmse:3.38431\n",
      "[98]\tvalidation_0-rmse:3.36653\n",
      "[99]\tvalidation_0-rmse:3.35580\n",
      "[100]\tvalidation_0-rmse:3.34329\n",
      "[101]\tvalidation_0-rmse:3.33525\n",
      "[102]\tvalidation_0-rmse:3.32761\n",
      "[103]\tvalidation_0-rmse:3.30621\n",
      "[104]\tvalidation_0-rmse:3.29153\n",
      "[105]\tvalidation_0-rmse:3.27303\n",
      "[106]\tvalidation_0-rmse:3.26189\n",
      "[107]\tvalidation_0-rmse:3.25414\n",
      "[108]\tvalidation_0-rmse:3.25155\n",
      "[109]\tvalidation_0-rmse:3.23789\n",
      "[110]\tvalidation_0-rmse:3.23009\n",
      "[111]\tvalidation_0-rmse:3.22342\n",
      "[112]\tvalidation_0-rmse:3.21070\n",
      "[113]\tvalidation_0-rmse:3.20209\n",
      "[114]\tvalidation_0-rmse:3.19664\n",
      "[115]\tvalidation_0-rmse:3.18942\n",
      "[116]\tvalidation_0-rmse:3.18527\n",
      "[117]\tvalidation_0-rmse:3.18452\n",
      "[118]\tvalidation_0-rmse:3.17748\n",
      "[119]\tvalidation_0-rmse:3.17583\n",
      "[120]\tvalidation_0-rmse:3.17117\n",
      "[121]\tvalidation_0-rmse:3.16453\n",
      "[122]\tvalidation_0-rmse:3.16467\n",
      "[123]\tvalidation_0-rmse:3.16395\n",
      "[124]\tvalidation_0-rmse:3.16342\n",
      "[125]\tvalidation_0-rmse:3.16152\n",
      "[126]\tvalidation_0-rmse:3.15478\n",
      "[127]\tvalidation_0-rmse:3.14938\n",
      "[128]\tvalidation_0-rmse:3.14777\n",
      "[129]\tvalidation_0-rmse:3.14143\n",
      "[130]\tvalidation_0-rmse:3.13170\n",
      "[131]\tvalidation_0-rmse:3.12702\n",
      "[132]\tvalidation_0-rmse:3.12537\n",
      "[133]\tvalidation_0-rmse:3.12611\n",
      "[134]\tvalidation_0-rmse:3.11913\n",
      "[135]\tvalidation_0-rmse:3.11554\n",
      "[136]\tvalidation_0-rmse:3.11441\n",
      "[137]\tvalidation_0-rmse:3.10883\n",
      "[138]\tvalidation_0-rmse:3.10850\n",
      "[139]\tvalidation_0-rmse:3.10601\n",
      "[140]\tvalidation_0-rmse:3.10600\n",
      "[141]\tvalidation_0-rmse:3.09988\n",
      "[142]\tvalidation_0-rmse:3.09689\n",
      "[143]\tvalidation_0-rmse:3.10160\n",
      "[144]\tvalidation_0-rmse:3.10179\n",
      "[145]\tvalidation_0-rmse:3.10244\n",
      "[146]\tvalidation_0-rmse:3.10245\n",
      "[147]\tvalidation_0-rmse:3.09466\n",
      "[148]\tvalidation_0-rmse:3.09215\n",
      "[149]\tvalidation_0-rmse:3.09104\n",
      "[150]\tvalidation_0-rmse:3.08783\n",
      "[151]\tvalidation_0-rmse:3.08801\n",
      "[152]\tvalidation_0-rmse:3.08777\n",
      "[153]\tvalidation_0-rmse:3.09151\n",
      "[154]\tvalidation_0-rmse:3.09277\n",
      "[155]\tvalidation_0-rmse:3.09146\n",
      "[156]\tvalidation_0-rmse:3.09157\n",
      "[157]\tvalidation_0-rmse:3.08919\n",
      "Time taken for Hyper Param tuning of XGB (in minutes) = 0.1\n"
     ]
    },
    {
     "data": {
      "application/vnd.jupyter.widget-view+json": {
       "model_id": "c62b77771b8c40e7a865f5d1ba449e30",
       "version_major": 2,
       "version_minor": 0
      },
      "text/plain": [
       "0it [00:00, ?it/s]"
      ]
     },
     "metadata": {},
     "output_type": "display_data"
    },
    {
     "name": "stdout",
     "output_type": "stream",
     "text": [
      "RMSE score in fold 1 = 3.3060150945700544\n",
      "RMSE score in fold 2 = 3.559584607283754\n",
      "RMSE score in fold 3 = 3.783236984277747\n",
      "RMSE score in fold 4 = 3.6037810232239154\n",
      "RMSE score in fold 5 = 3.335399673070716\n",
      "    Time taken for Cross Validation of XGBoost (in minutes) = 0.1\n",
      "\n",
      "Cross-validated Average scores are:  3.5176034764852373\n",
      "Training model on full train dataset...\n",
      "    Time taken for training XGBoost (in minutes) = 0.0\n",
      "Returning the following:\n",
      "    final predictions [31.001469 28.173975 20.603096 21.598976 18.233286 19.724012 25.600805\n",
      " 18.874134 21.594769 22.505758]\n",
      "    Model = XGBRegressor(alpha=0.015, base_score=0.5, booster='gbtree', colsample_bylevel=1,\n",
      "             colsample_bynode=1, colsample_bytree=0.5, enable_categorical=False,\n",
      "             eval_metric='rmse', gamma=8, gpu_id=0, importance_type=None,\n",
      "             interaction_constraints='', learning_rate=0.031446387626298145,\n",
      "             max_delta_step=0, max_depth=8, min_child_weight=2, missing=nan,\n",
      "             monotone_constraints='()', n_estimators=485, n_jobs=-1,\n",
      "             num_parallel_tree=1, predictor='cpu_predictor', random_state=99,\n",
      "             reg_alpha=0, reg_lambda=0.5, scale_pos_weight=1, silent=True,\n",
      "             subsample=0.7, tree_method='hist', updater='grow_colmaker', ...)\n"
     ]
    }
   ],
   "source": [
    "y_preds = simple_XGBoost_model(trainm[feats], trainm[target], testm[feats])\n",
    "ypreds2 = y_preds[0]"
   ]
  },
  {
   "cell_type": "code",
   "execution_count": 12,
   "id": "2b96359a",
   "metadata": {},
   "outputs": [
    {
     "name": "stdout",
     "output_type": "stream",
     "text": [
      "Imported LazyTransformer version:1.00. Call by using:\n",
      "    lazy = LazyTransformer(model=None, encoders='auto', scalers=None, date_to_string=False,\n",
      "        transform_target=False, imbalanced=False, save=False, combine_rare=False, verbose=0)\n",
      "    ### if you are not using a model in pipeline, you must use fit and transform ###\n",
      "        X_trainm, y_trainm = lazy.fit_transform(X_train, y_train)\n",
      "        X_testm = lazy.transform(X_test)\n",
      "    ### If using a model in pipeline, use fit and predict only ###\n",
      "        lazy.fit(X_train, y_train)\n",
      "        lazy.predict(X_test)\n",
      "\n",
      "    R-Squared = 91%\n"
     ]
    },
    {
     "data": {
      "image/png": "[encoded data removed]",
      "text/plain": [
       "<Figure size 720x720 with 1 Axes>"
      ]
     },
     "metadata": {
      "needs_background": "light"
     },
     "output_type": "display_data"
    },
    {
     "data": {
      "text/plain": [
       "2.9051367221244933"
      ]
     },
     "execution_count": 12,
     "metadata": {},
     "output_type": "execute_result"
    }
   ],
   "source": [
    "from lazytransform import print_regression_model_stats, print_sulo_accuracy\n",
    "print_regression_model_stats(test[target], ypreds1)\n",
    "#print_sulo_accuracy(test[target], ypreds1,verbose=1)"
   ]
  },
  {
   "cell_type": "code",
   "execution_count": 13,
   "id": "3e3430b4",
   "metadata": {},
   "outputs": [
    {
     "name": "stdout",
     "output_type": "stream",
     "text": [
      "    R-Squared = 92%\n"
     ]
    },
    {
     "data": {
      "image/png": "[encoded data removed]",
      "text/plain": [
       "<Figure size 720x720 with 1 Axes>"
      ]
     },
     "metadata": {
      "needs_background": "light"
     },
     "output_type": "display_data"
    },
    {
     "data": {
      "text/plain": [
       "2.795406291173381"
      ]
     },
     "execution_count": 13,
     "metadata": {},
     "output_type": "execute_result"
    }
   ],
   "source": [
    "from lazytransform import print_regression_model_stats\n",
    "print_regression_model_stats(test[target], ypreds2)\n",
    "#print_sulo_accuracy(test[target], ypreds2,verbose=1)"
   ]
  },
  {
   "cell_type": "code",
   "execution_count": null,
   "id": "30cc2d30",
   "metadata": {},
   "outputs": [],
   "source": []
  },
  {
   "cell_type": "code",
   "execution_count": null,
   "id": "66baac45",
   "metadata": {},
   "outputs": [],
   "source": []
  }
 ],
 "metadata": {
  "kernelspec": {
   "display_name": "Python 3",
   "language": "python",
   "name": "python3"
  },
  "language_info": {
   "codemirror_mode": {
    "name": "ipython",
    "version": 3
   },
   "file_extension": ".py",
   "mimetype": "text/x-python",
   "name": "python",
   "nbconvert_exporter": "python",
   "pygments_lexer": "ipython3",
   "version": "3.8.5"
  }
 },
 "nbformat": 4,
 "nbformat_minor": 5
}
