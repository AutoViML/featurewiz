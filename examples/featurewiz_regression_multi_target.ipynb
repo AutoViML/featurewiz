{
 "cells": [
  {
   "cell_type": "markdown",
   "id": "c35e8602",
   "metadata": {},
   "source": [
    "# This is another example of using featurewiz to perform feature selection in a multi-label (multi-target) regression dataset."
   ]
  },
  {
   "cell_type": "code",
   "execution_count": 1,
   "id": "8c2b241a",
   "metadata": {},
   "outputs": [
    {
     "name": "stdout",
     "output_type": "stream",
     "text": [
      "Imported 0.2.8 version. Select nrows to a small number when running on huge datasets.\n",
      "output = featurewiz(dataname, target, corr_limit=0.90, verbose=2, sep=',', \n",
      "\t\theader=0, test_data='',feature_engg='', category_encoders='',\n",
      "\t\tdask_xgboost_flag=False, nrows=None, skip_sulov=False)\n",
      "Create new features via 'feature_engg' flag : ['interactions','groupby','target']\n",
      "\n"
     ]
    }
   ],
   "source": [
    "import pandas as pd\n",
    "import numpy as np\n",
    "from sklearn.model_selection import train_test_split\n",
    "from sklearn.linear_model import LinearRegression\n",
    "from sklearn.metrics import r2_score\n",
    "import featurewiz as fw"
   ]
  },
  {
   "cell_type": "code",
   "execution_count": 2,
   "id": "5c87f634",
   "metadata": {},
   "outputs": [
    {
     "data": {
      "text/html": [
       "<div>\n",
       "<style scoped>\n",
       "    .dataframe tbody tr th:only-of-type {\n",
       "        vertical-align: middle;\n",
       "    }\n",
       "\n",
       "    .dataframe tbody tr th {\n",
       "        vertical-align: top;\n",
       "    }\n",
       "\n",
       "    .dataframe thead th {\n",
       "        text-align: right;\n",
       "    }\n",
       "</style>\n",
       "<table border=\"1\" class=\"dataframe\">\n",
       "  <thead>\n",
       "    <tr style=\"text-align: right;\">\n",
       "      <th></th>\n",
       "      <th>X1</th>\n",
       "      <th>X2</th>\n",
       "      <th>X3</th>\n",
       "      <th>X4</th>\n",
       "      <th>X5</th>\n",
       "      <th>X6</th>\n",
       "      <th>X7</th>\n",
       "      <th>X8</th>\n",
       "      <th>Y1</th>\n",
       "      <th>Y2</th>\n",
       "    </tr>\n",
       "  </thead>\n",
       "  <tbody>\n",
       "    <tr>\n",
       "      <th>0</th>\n",
       "      <td>0.98</td>\n",
       "      <td>514.5</td>\n",
       "      <td>294.0</td>\n",
       "      <td>110.25</td>\n",
       "      <td>7.0</td>\n",
       "      <td>2</td>\n",
       "      <td>0.0</td>\n",
       "      <td>0</td>\n",
       "      <td>15.55</td>\n",
       "      <td>21.33</td>\n",
       "    </tr>\n",
       "    <tr>\n",
       "      <th>1</th>\n",
       "      <td>0.98</td>\n",
       "      <td>514.5</td>\n",
       "      <td>294.0</td>\n",
       "      <td>110.25</td>\n",
       "      <td>7.0</td>\n",
       "      <td>3</td>\n",
       "      <td>0.0</td>\n",
       "      <td>0</td>\n",
       "      <td>15.55</td>\n",
       "      <td>21.33</td>\n",
       "    </tr>\n",
       "    <tr>\n",
       "      <th>2</th>\n",
       "      <td>0.98</td>\n",
       "      <td>514.5</td>\n",
       "      <td>294.0</td>\n",
       "      <td>110.25</td>\n",
       "      <td>7.0</td>\n",
       "      <td>4</td>\n",
       "      <td>0.0</td>\n",
       "      <td>0</td>\n",
       "      <td>15.55</td>\n",
       "      <td>21.33</td>\n",
       "    </tr>\n",
       "    <tr>\n",
       "      <th>3</th>\n",
       "      <td>0.98</td>\n",
       "      <td>514.5</td>\n",
       "      <td>294.0</td>\n",
       "      <td>110.25</td>\n",
       "      <td>7.0</td>\n",
       "      <td>5</td>\n",
       "      <td>0.0</td>\n",
       "      <td>0</td>\n",
       "      <td>15.55</td>\n",
       "      <td>21.33</td>\n",
       "    </tr>\n",
       "    <tr>\n",
       "      <th>4</th>\n",
       "      <td>0.90</td>\n",
       "      <td>563.5</td>\n",
       "      <td>318.5</td>\n",
       "      <td>122.50</td>\n",
       "      <td>7.0</td>\n",
       "      <td>2</td>\n",
       "      <td>0.0</td>\n",
       "      <td>0</td>\n",
       "      <td>20.84</td>\n",
       "      <td>28.28</td>\n",
       "    </tr>\n",
       "  </tbody>\n",
       "</table>\n",
       "</div>"
      ],
      "text/plain": [
       "     X1     X2     X3      X4   X5  X6   X7  X8     Y1     Y2\n",
       "0  0.98  514.5  294.0  110.25  7.0   2  0.0   0  15.55  21.33\n",
       "1  0.98  514.5  294.0  110.25  7.0   3  0.0   0  15.55  21.33\n",
       "2  0.98  514.5  294.0  110.25  7.0   4  0.0   0  15.55  21.33\n",
       "3  0.98  514.5  294.0  110.25  7.0   5  0.0   0  15.55  21.33\n",
       "4  0.90  563.5  318.5  122.50  7.0   2  0.0   0  20.84  28.28"
      ]
     },
     "execution_count": 2,
     "metadata": {},
     "output_type": "execute_result"
    }
   ],
   "source": [
    "# load the dataset\n",
    "data = pd.read_excel('https://archive.ics.uci.edu/ml/machine-learning-databases/00242/ENB2012_data.xlsx')\n",
    "data.columns = ['X' + str(i) for i in range(1, 9)] + ['Y1', 'Y2']\n",
    "data.head()"
   ]
  },
  {
   "cell_type": "code",
   "execution_count": 3,
   "id": "e6615263",
   "metadata": {},
   "outputs": [
    {
     "data": {
      "text/plain": [
       "((614, 8), (154, 8))"
      ]
     },
     "execution_count": 3,
     "metadata": {},
     "output_type": "execute_result"
    }
   ],
   "source": [
    "#Next, I’ll split the dataset into train and test sets:\n",
    "\n",
    "# split the dataset into train and test sets\n",
    "X = data.drop(['Y1', 'Y2'], axis=1)\n",
    "y = data[['Y1', 'Y2']]\n",
    "X_train, X_test, y_train, y_test = train_test_split(X, y, test_size=0.2, random_state=42)\n",
    "X_train.shape, X_test.shape"
   ]
  },
  {
   "cell_type": "code",
   "execution_count": 4,
   "id": "25adec53",
   "metadata": {},
   "outputs": [
    {
     "name": "stdout",
     "output_type": "stream",
     "text": [
      "R-square score before feature selection: 0.9027043809921144\n"
     ]
    }
   ],
   "source": [
    "#Then, I’ll fit a linear regression model on the original train set and evaluate its performance on the test set:\n",
    "\n",
    "# fit a linear regression model on the original train set\n",
    "model = LinearRegression()\n",
    "model.fit(X_train, y_train)\n",
    "\n",
    "# evaluate the model on the test set\n",
    "y_pred = model.predict(X_test)\n",
    "r2_score_before = r2_score(y_test, y_pred)\n",
    "print('R-square score before feature selection:', r2_score_before)\n",
    "\n",
    "#R-square score before feature selection: 0.9027043809921144"
   ]
  },
  {
   "cell_type": "code",
   "execution_count": 5,
   "id": "9e6c628c",
   "metadata": {},
   "outputs": [
    {
     "name": "stdout",
     "output_type": "stream",
     "text": [
      "############################################################################################\n",
      "############       F A S T   F E A T U R E  E N G G    A N D    S E L E C T I O N ! ########\n",
      "# Be judicious with featurewiz. Don't use it to create too many un-interpretable features! #\n",
      "############################################################################################\n",
      "featurewiz has selected 0.7 as the correlation limit. Change this limit to fit your needs...\n",
      "Skipping feature engineering since no feature_engg input...\n",
      "Skipping category encoding since no category encoders specified in input...\n",
      "#### Multi_Label Regression problem ####\n",
      "    Loaded train data. Shape = (614, 10)\n",
      "#### Multi_Label Regression problem ####\n",
      "No test data filename given...\n",
      "#######################################################################################\n",
      "######################## C L A S S I F Y I N G  V A R I A B L E S  ####################\n",
      "#######################################################################################\n",
      "        No variables were removed since no ID or low-information variables found in data set\n",
      "No GPU active on this device\n",
      "    Tuning XGBoost using CPU hyper-parameters. This will take time...\n",
      "Turning off Target encoding for multi-label problems like this data set...\n",
      "    since Feature Engineering module cannot handle Multi Label Targets, turnoff target_enc_cat_features to False\n",
      "    After removing redundant variables from further processing, features left = 8\n",
      "No interactions created for categorical vars since feature engg does not specify it\n",
      "#######################################################################################\n",
      "#####  Searching for Uncorrelated List Of Variables (SULOV) in 8 features ############\n",
      "#######################################################################################\n",
      "    there are no null values in dataset...\n",
      "    SelectKBest() function is erroring. Returning with all 8 variables...\n",
      "Time taken for SULOV method = 0 seconds\n",
      "    Adding 0 categorical variables to reduced numeric variables  of 8\n",
      "Final list of selected 8 vars after SULOV = ['X1', 'X2', 'X3', 'X4', 'X5', 'X6', 'X7', 'X8']\n",
      "Converting all features to numeric before sending to XGBoost...\n",
      "#######################################################################################\n",
      "#####    R E C U R S I V E   X G B O O S T : F E A T U R E   S E L E C T I O N  #######\n",
      "#######################################################################################\n",
      "    using regular XGBoost\n",
      "Current number of predictors before recursive XGBoost = 8 \n",
      "    Taking top 2 features per iteration...\n",
      "    XGBoost version using 1.5.2 as tree method: hist\n",
      "Number of booster rounds = 100\n",
      "        using 8 variables...\n",
      "            Selecting 2 features from this iteration...\n",
      "                Caution: they might be low-quality features since their F-score is less than 1...\n",
      "            Time taken for regular XGBoost feature selection = 0 seconds\n",
      "        using 6 variables...\n",
      "            Selecting 2 features from this iteration...\n",
      "                Caution: they might be low-quality features since their F-score is less than 1...\n",
      "            Time taken for regular XGBoost feature selection = 0 seconds\n",
      "        using 4 variables...\n",
      "            Selecting 2 features from this iteration...\n",
      "                Caution: they might be low-quality features since their F-score is less than 1...\n",
      "            Time taken for regular XGBoost feature selection = 0 seconds\n"
     ]
    },
    {
     "data": {
      "image/png": "[encoded data removed]",
      "text/plain": [
       "<Figure size 720x720 with 4 Axes>"
      ]
     },
     "metadata": {
      "needs_background": "light"
     },
     "output_type": "display_data"
    },
    {
     "name": "stdout",
     "output_type": "stream",
     "text": [
      "    Completed XGBoost feature selection in 1 seconds\n",
      "#######################################################################################\n",
      "#####          F E A T U R E   S E L E C T I O N   C O M P L E T E D            #######\n",
      "#######################################################################################\n",
      "Selected 5 important features:\n",
      "['X1', 'X7', 'X4', 'X3', 'X5']\n",
      "Total Time taken for featurewiz selection = 2 seconds\n",
      "Output contains a list of 5 important features and a train dataframe\n",
      "Selected features: ['X1', 'X7', 'X4', 'X3', 'X5']\n"
     ]
    }
   ],
   "source": [
    "#Now, I’ll use featurewiz to select the best features from the train set using a single line of code:\n",
    "\n",
    "# use featurewiz to select the best features from the train set\n",
    "selected_features, _ = fw.featurewiz(X_train.join(y_train),target=['Y1', 'Y2'], corr_limit=0.7, verbose=2)\n",
    "print('Selected features:', selected_features)\n",
    "\n",
    "#Selected features: ['X1', 'X7', 'X4', 'X3', 'X5']"
   ]
  },
  {
   "cell_type": "code",
   "execution_count": 6,
   "id": "15abed22",
   "metadata": {},
   "outputs": [
    {
     "name": "stdout",
     "output_type": "stream",
     "text": [
      "R-square score after feature selection: 0.9020667726667948\n"
     ]
    }
   ],
   "source": [
    "#Finally, I’ll fit another linear regression model on the selected features of the train set and evaluate its performance on the test set:\n",
    "\n",
    "# fit another linear regression model on the selected features of the train set\n",
    "model2 = LinearRegression()\n",
    "model2.fit(X_train[selected_features], y_train)\n",
    "\n",
    "# evaluate the model on the test set\n",
    "y_pred2 = model2.predict(X_test[selected_features])\n",
    "r2_score_after = r2_score(y_test, y_pred2)\n",
    "print('R-square score after feature selection:', r2_score_after)\n",
    "\n",
    "#R-square score after feature selection: 0.9020667726667948"
   ]
  },
  {
   "cell_type": "markdown",
   "id": "af94d9dc",
   "metadata": {},
   "source": [
    "# In this very small features dataset, featurewiz was able to reduce the number of features by 38% yet maintain the same R_Square. This shows the power of good feature selection."
   ]
  },
  {
   "cell_type": "code",
   "execution_count": null,
   "id": "aac70207",
   "metadata": {},
   "outputs": [],
   "source": []
  }
 ],
 "metadata": {
  "kernelspec": {
   "display_name": "Python 3",
   "language": "python",
   "name": "python3"
  },
  "language_info": {
   "codemirror_mode": {
    "name": "ipython",
    "version": 3
   },
   "file_extension": ".py",
   "mimetype": "text/x-python",
   "name": "python",
   "nbconvert_exporter": "python",
   "pygments_lexer": "ipython3",
   "version": "3.8.5"
  }
 },
 "nbformat": 4,
 "nbformat_minor": 5
}
