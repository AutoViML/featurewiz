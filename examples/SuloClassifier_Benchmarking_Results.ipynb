{
 "cells": [
  {
   "cell_type": "markdown",
   "metadata": {},
   "source": [
    "# This notebook shows how a SuloClassifier beat a single model as well as a Voting classifier due to its superior design"
   ]
  },
  {
   "cell_type": "markdown",
   "metadata": {},
   "source": [
    "### We are going to test it on a large dataset using the sample example code provided by:\n",
    "https://machinelearningmastery.com/weighted-average-ensemble-with-python/\n",
    "Thanks to Jason Brownlee for his Machine Learning Mastery blogs. He is absolutely great!"
   ]
  },
  {
   "cell_type": "code",
   "execution_count": 1,
   "metadata": {
    "execution": {
     "iopub.execute_input": "2022-04-13T11:27:34.843421Z",
     "iopub.status.busy": "2022-04-13T11:27:34.843049Z",
     "iopub.status.idle": "2022-04-13T11:27:35.510175Z",
     "shell.execute_reply": "2022-04-13T11:27:35.509371Z",
     "shell.execute_reply.started": "2022-04-13T11:27:34.843365Z"
    }
   },
   "outputs": [],
   "source": [
    "import pandas as pd\n",
    "import numpy as np\n",
    "import matplotlib.pyplot as plt\n",
    "import seaborn as sns\n",
    "%matplotlib inline"
   ]
  },
  {
   "cell_type": "code",
   "execution_count": 2,
   "metadata": {},
   "outputs": [
    {
     "name": "stderr",
     "output_type": "stream",
     "text": [
      "C:\\Users\\Ram\\AppData\\Roaming\\Python\\Python38\\site-packages\\xgboost\\compat.py:93: FutureWarning: pandas.Int64Index is deprecated and will be removed from pandas in a future version. Use pandas.Index with the appropriate dtype instead.\n",
      "  from pandas import MultiIndex, Int64Index\n"
     ]
    },
    {
     "name": "stdout",
     "output_type": "stream",
     "text": [
      "Imported version = 0.1.86.\n",
      "from featurewiz import FeatureWiz\n",
      "wiz = FeatureWiz(verbose=1)\n",
      "X_train_selected = wiz.fit_transform(X_train, y_train)\n",
      "X_test_selected = wiz.transform(X_test)\n",
      "wiz.features  ### provides a list of selected features ###\n",
      "                                \n"
     ]
    }
   ],
   "source": [
    "from featurewiz import SuloClassifier"
   ]
  },
  {
   "cell_type": "code",
   "execution_count": 3,
   "metadata": {},
   "outputs": [
    {
     "name": "stdout",
     "output_type": "stream",
     "text": [
      "[0.8548484848484849, 0.9620606060606061, 0.8383030303030303]\n",
      "Input data shapes: X = (50000, 50), y = (50000,)\n",
      "No GPU available on this device. Using CPU for lightgbm and others.\n",
      "Number of estimators = 7\n",
      "    Number of estimators used in SuloClassifier = 7\n",
      "    Selecting LGBM Classifier for this dataset...\n",
      "Finding best params for base estimator using RandomizedSearchCV...\n",
      "    best score is : 0.9841348133071002\n",
      "    best Params is : {'model__learning_rate': 0.4120463984051167, 'model__n_estimators': 179}\n",
      "Time Taken for RandomizedSearchCV: 85 (seconds)\n",
      "Bal accu 98%\n",
      "              precision    recall  f1-score   support\n",
      "\n",
      "           0       0.98      0.99      0.99      3597\n",
      "           1       0.99      0.98      0.98      3546\n",
      "\n",
      "    accuracy                           0.99      7143\n",
      "   macro avg       0.99      0.98      0.99      7143\n",
      "weighted avg       0.99      0.99      0.99      7143\n",
      "\n",
      "    Fold 1: OOF Score: 98%\n",
      "Bal accu 98%\n",
      "              precision    recall  f1-score   support\n",
      "\n",
      "           0       0.98      0.98      0.98      3569\n",
      "           1       0.98      0.98      0.98      3574\n",
      "\n",
      "    accuracy                           0.98      7143\n",
      "   macro avg       0.98      0.98      0.98      7143\n",
      "weighted avg       0.98      0.98      0.98      7143\n",
      "\n",
      "    Fold 2: OOF Score: 98%\n",
      "Bal accu 99%\n",
      "              precision    recall  f1-score   support\n",
      "\n",
      "           0       0.99      0.99      0.99      3596\n",
      "           1       0.99      0.99      0.99      3547\n",
      "\n",
      "    accuracy                           0.99      7143\n",
      "   macro avg       0.99      0.99      0.99      7143\n",
      "weighted avg       0.99      0.99      0.99      7143\n",
      "\n",
      "    Fold 3: OOF Score: 99%\n",
      "Bal accu 99%\n",
      "              precision    recall  f1-score   support\n",
      "\n",
      "           0       0.99      0.99      0.99      3614\n",
      "           1       0.99      0.99      0.99      3529\n",
      "\n",
      "    accuracy                           0.99      7143\n",
      "   macro avg       0.99      0.99      0.99      7143\n",
      "weighted avg       0.99      0.99      0.99      7143\n",
      "\n",
      "    Fold 4: OOF Score: 99%\n",
      "Bal accu 98%\n",
      "              precision    recall  f1-score   support\n",
      "\n",
      "           0       0.98      0.98      0.98      3563\n",
      "           1       0.98      0.98      0.98      3580\n",
      "\n",
      "    accuracy                           0.98      7143\n",
      "   macro avg       0.98      0.98      0.98      7143\n",
      "weighted avg       0.98      0.98      0.98      7143\n",
      "\n",
      "    Fold 5: OOF Score: 98%\n",
      "Bal accu 81%\n",
      "              precision    recall  f1-score   support\n",
      "\n",
      "           0       0.82      0.80      0.81      3550\n",
      "           1       0.81      0.83      0.82      3593\n",
      "\n",
      "    accuracy                           0.81      7143\n",
      "   macro avg       0.81      0.81      0.81      7143\n",
      "weighted avg       0.81      0.81      0.81      7143\n",
      "\n",
      "    Fold 6: OOF Score: 81%\n",
      "Bal accu 99%\n",
      "              precision    recall  f1-score   support\n",
      "\n",
      "           0       0.99      0.99      0.99      3598\n",
      "           1       0.99      0.98      0.99      3544\n",
      "\n",
      "    accuracy                           0.99      7142\n",
      "   macro avg       0.99      0.99      0.99      7142\n",
      "weighted avg       0.99      0.99      0.99      7142\n",
      "\n",
      "    Fold 7: OOF Score: 99%\n",
      "Average Balanced Accuracy of 7-model SuloClassifier: 96%\n",
      "Time Taken: 140 (seconds)\n",
      "SuloClassifier Accuracy: 98.510\n",
      ">lr: 85.294\n",
      ">LGBM: 96.104\n",
      ">bayes: 83.622\n",
      "Voting Accuracy: 90.300\n"
     ]
    }
   ],
   "source": [
    "# evaluate a weighted average ensemble for classification compared to base model\n",
    "from sklearn.datasets import make_classification\n",
    "from sklearn.model_selection import train_test_split\n",
    "from sklearn.metrics import accuracy_score\n",
    "from sklearn.linear_model import LogisticRegression\n",
    "from sklearn.tree import DecisionTreeClassifier\n",
    "from sklearn.naive_bayes import GaussianNB\n",
    "from sklearn.ensemble import VotingClassifier\n",
    "from lightgbm import LGBMClassifier\n",
    "\n",
    "# get a list of base models\n",
    "lgbm = LGBMClassifier(random_state=0, n_estimators=100)\n",
    "def get_models():\n",
    "\tmodels = list()\n",
    "\tmodels.append(('lr', LogisticRegression()))\n",
    "\tmodels.append(('LGBM', lgbm))\n",
    "\tmodels.append(('bayes', GaussianNB()))\n",
    "\treturn models\n",
    " \n",
    "# evaluate each base model\n",
    "def evaluate_models(models, X_train, X_val, y_train, y_val):\n",
    "\t# fit and evaluate the models\n",
    "\tscores = list()\n",
    "\tfor name, model in models:\n",
    "\t\t# fit the model\n",
    "\t\tmodel.fit(X_train, y_train)\n",
    "\t\t# evaluate the model\n",
    "\t\tyhat = model.predict(X_val)\n",
    "\t\tacc = accuracy_score(y_val, yhat)\n",
    "\t\t# store the performance\n",
    "\t\tscores.append(acc)\n",
    "\t\t# report model performance\n",
    "\treturn scores\n",
    " \n",
    "# define dataset\n",
    "X, y = make_classification(n_samples=100000, n_features=50, n_informative=40, \n",
    "                           n_redundant=5, random_state=7)\n",
    "# split dataset into train and test sets\n",
    "X_train_full, X_test, y_train_full, y_test = train_test_split(X, y, test_size=0.50, random_state=1)\n",
    "# split the full train set into train and validation sets\n",
    "X_train, X_val, y_train, y_val = train_test_split(X_train_full, y_train_full, test_size=0.33, random_state=1)\n",
    "# create the base models\n",
    "models = get_models()\n",
    "# fit and evaluate each model\n",
    "scores = evaluate_models(models, X_train, X_val, y_train, y_val)\n",
    "print(scores)\n",
    "# create the ensemble\n",
    "#ensemble = VotingClassifier(estimators=models, voting='soft', weights=scores)\n",
    "ensemble = SuloClassifier(base_estimator=None, n_estimators=None, verbose=1)\n",
    "# fit the ensemble on the training dataset\n",
    "ensemble.fit(pd.DataFrame(X_train_full), pd.Series(y_train_full))\n",
    "# make predictions on test set\n",
    "yhat = ensemble.predict(X_test)\n",
    "# evaluate predictions\n",
    "score = accuracy_score(y_test, yhat)\n",
    "print('SuloClassifier Accuracy: %.3f' % (score*100))\n",
    "# evaluate each standalone model\n",
    "scores = evaluate_models(models, X_train_full, X_test, y_train_full, y_test)\n",
    "for i in range(len(models)):\n",
    "\tprint('>%s: %.3f' % (models[i][0], scores[i]*100))\n",
    "# evaluate equal weighting\n",
    "ensemble = VotingClassifier(estimators=models, voting='soft')\n",
    "ensemble.fit(X_train_full, y_train_full)\n",
    "yhat = ensemble.predict(X_test)\n",
    "score = accuracy_score(y_test, yhat)\n",
    "print('Voting Accuracy: %.3f' % (score*100))"
   ]
  },
  {
   "cell_type": "code",
   "execution_count": null,
   "metadata": {},
   "outputs": [],
   "source": []
  }
 ],
 "metadata": {
  "kernelspec": {
   "display_name": "Python 3",
   "language": "python",
   "name": "python3"
  },
  "language_info": {
   "codemirror_mode": {
    "name": "ipython",
    "version": 3
   },
   "file_extension": ".py",
   "mimetype": "text/x-python",
   "name": "python",
   "nbconvert_exporter": "python",
   "pygments_lexer": "ipython3",
   "version": "3.8.5"
  }
 },
 "nbformat": 4,
 "nbformat_minor": 4
}
